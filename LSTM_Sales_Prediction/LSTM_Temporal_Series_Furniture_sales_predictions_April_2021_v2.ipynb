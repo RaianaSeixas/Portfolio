{
  "nbformat": 4,
  "nbformat_minor": 0,
  "metadata": {
    "colab": {
      "name": "LSTM_Temporal Series_Furniture sales predictions_April_2021_v2.ipynb",
      "provenance": [],
      "collapsed_sections": [],
      "include_colab_link": true
    },
    "kernelspec": {
      "name": "python3",
      "display_name": "Python 3"
    },
    "language_info": {
      "name": "python"
    }
  },
  "cells": [
    {
      "cell_type": "markdown",
      "metadata": {
        "id": "view-in-github",
        "colab_type": "text"
      },
      "source": [
        "<a href=\"https://colab.research.google.com/github/RaianaSeixas/Portfolio/blob/main/LSTM_Sales_Prediction/LSTM_Temporal_Series_Furniture_sales_predictions_April_2021_v2.ipynb\" target=\"_parent\"><img src=\"https://colab.research.google.com/assets/colab-badge.svg\" alt=\"Open In Colab\"/></a>"
      ]
    },
    {
      "cell_type": "markdown",
      "source": [
        "**EVALUATING OF FUTURE EVENTS BASED IN ARTIFICIAL NEURAL NETWORKS IN A CASE STUDY OF SALES OF FURNITURES**\n",
        "\n",
        "**Abstract:** Accurate forecasting of different events is a key aspect for successful management with relevance in different fields including weather forecast, environmental evaluation of air pollution and evaluation of business strategies. In this context, recurrent neural networks, more specifically, LSTM (long-short term memory) have been successfully adopted in many time series or sequential data applications in traditional situations, as well as, in situations where the absence of data, outliers and nonlinearity reduces the applicability of traditional models like the autoregressive ones. In this article, the use of **LSTM recurrent artificial neural networks is evaluated for sales forecasting**. Six different conditions of variables were evaluated to describe the LSTM artificial neural network models using r-scored (R2) and mean squared error (MSE) as metrics to describe the quality of these models. Relative to LSTM, it was observed that the model evaluated was able to capture the data seasonality, describing the sales with r-scored superior to 0.7 and making a correct description of sales even after 24 months of training. Relative to description of sales, it was observed that the use of sales in the last three months was the best period to predict future sales and the use of sales of office items improved the quality of the model.\n",
        "\n",
        "Obs.:This is the code associated to final model described in the paper available(in portuguese language) in  : https://github.com/RaianaSeixas/Portfolio/blob/main/LSTM_Sales_Prediction/Temporal%20series%20XXIV%20ENMC%20and%20XII%20ECTM%20v_04.pdf\n",
        "\n"
      ],
      "metadata": {
        "id": "ui9okQeY_C4u"
      }
    },
    {
      "cell_type": "code",
      "metadata": {
        "id": "G6_52vHnr34h"
      },
      "source": [
        "import pandas as pd\n",
        "import numpy as np\n",
        "from google.colab import files\n",
        "import matplotlib.pyplot as plt\n",
        "from sklearn.model_selection import train_test_split\n",
        "from sklearn.preprocessing import MinMaxScaler\n",
        "from sklearn.metrics import mean_squared_error\n",
        "from sklearn.metrics import r2_score"
      ],
      "execution_count": 1,
      "outputs": []
    },
    {
      "cell_type": "code",
      "metadata": {
        "id": "d7MsJQI2mdaz"
      },
      "source": [
        "from keras.models import Sequential\n",
        "from keras.layers import Dense\n",
        "from keras.layers import LSTM"
      ],
      "execution_count": 2,
      "outputs": []
    },
    {
      "cell_type": "code",
      "metadata": {
        "colab": {
          "base_uri": "https://localhost:8080/"
        },
        "id": "HOWF51hxrhhP",
        "outputId": "5aeb5e2d-74f6-4e9d-956e-40fd9c389b4b"
      },
      "source": [
        "! git clone https://github.com/RaianaSeixas/Machine_Learning_Datasets\n",
        "%cd Machine_Learning_Datasets"
      ],
      "execution_count": 3,
      "outputs": [
        {
          "output_type": "stream",
          "name": "stdout",
          "text": [
            "Cloning into 'Machine_Learning_Datasets'...\n",
            "remote: Enumerating objects: 6, done.\u001b[K\n",
            "remote: Counting objects: 100% (6/6), done.\u001b[K\n",
            "remote: Compressing objects: 100% (4/4), done.\u001b[K\n",
            "remote: Total 6 (delta 0), reused 0 (delta 0), pack-reused 0\u001b[K\n",
            "Unpacking objects: 100% (6/6), done.\n",
            "/content/Machine_Learning_Datasets\n"
          ]
        }
      ]
    },
    {
      "cell_type": "code",
      "metadata": {
        "colab": {
          "base_uri": "https://localhost:8080/",
          "height": 321
        },
        "id": "j6Lc6V7EroT-",
        "outputId": "9c6df091-dd00-401a-abf8-221f1ec00bbf"
      },
      "source": [
        "# df = pd.read_csv(\"Superstore.csv\", encoding='windows-1252')\n",
        "df = pd.read_excel(\"Superstore_data.xlsx\")\n",
        "df.head(3) # shows headers with top 3 rows"
      ],
      "execution_count": 4,
      "outputs": [
        {
          "output_type": "execute_result",
          "data": {
            "text/plain": [
              "   Row ID        Order ID Order Date  Ship Date     Ship Mode Customer ID  \\\n",
              "0       1  CA-2016-152156 2016-11-08 2016-11-11  Second Class    CG-12520   \n",
              "1       2  CA-2016-152156 2016-11-08 2016-11-11  Second Class    CG-12520   \n",
              "2       3  CA-2016-138688 2016-06-12 2016-06-16  Second Class    DV-13045   \n",
              "\n",
              "     Customer Name    Segment        Country         City  ... Postal Code  \\\n",
              "0      Claire Gute   Consumer  United States    Henderson  ...       42420   \n",
              "1      Claire Gute   Consumer  United States    Henderson  ...       42420   \n",
              "2  Darrin Van Huff  Corporate  United States  Los Angeles  ...       90036   \n",
              "\n",
              "   Region       Product ID         Category Sub-Category  \\\n",
              "0   South  FUR-BO-10001798        Furniture    Bookcases   \n",
              "1   South  FUR-CH-10000454        Furniture       Chairs   \n",
              "2    West  OFF-LA-10000240  Office Supplies       Labels   \n",
              "\n",
              "                                        Product Name   Sales  Quantity  \\\n",
              "0                  Bush Somerset Collection Bookcase  261.96         2   \n",
              "1  Hon Deluxe Fabric Upholstered Stacking Chairs,...  731.94         3   \n",
              "2  Self-Adhesive Address Labels for Typewriters b...   14.62         2   \n",
              "\n",
              "   Discount    Profit  \n",
              "0       0.0   41.9136  \n",
              "1       0.0  219.5820  \n",
              "2       0.0    6.8714  \n",
              "\n",
              "[3 rows x 21 columns]"
            ],
            "text/html": [
              "\n",
              "  <div id=\"df-e2546fd5-3828-46c2-8874-9c729a7d13c4\">\n",
              "    <div class=\"colab-df-container\">\n",
              "      <div>\n",
              "<style scoped>\n",
              "    .dataframe tbody tr th:only-of-type {\n",
              "        vertical-align: middle;\n",
              "    }\n",
              "\n",
              "    .dataframe tbody tr th {\n",
              "        vertical-align: top;\n",
              "    }\n",
              "\n",
              "    .dataframe thead th {\n",
              "        text-align: right;\n",
              "    }\n",
              "</style>\n",
              "<table border=\"1\" class=\"dataframe\">\n",
              "  <thead>\n",
              "    <tr style=\"text-align: right;\">\n",
              "      <th></th>\n",
              "      <th>Row ID</th>\n",
              "      <th>Order ID</th>\n",
              "      <th>Order Date</th>\n",
              "      <th>Ship Date</th>\n",
              "      <th>Ship Mode</th>\n",
              "      <th>Customer ID</th>\n",
              "      <th>Customer Name</th>\n",
              "      <th>Segment</th>\n",
              "      <th>Country</th>\n",
              "      <th>City</th>\n",
              "      <th>...</th>\n",
              "      <th>Postal Code</th>\n",
              "      <th>Region</th>\n",
              "      <th>Product ID</th>\n",
              "      <th>Category</th>\n",
              "      <th>Sub-Category</th>\n",
              "      <th>Product Name</th>\n",
              "      <th>Sales</th>\n",
              "      <th>Quantity</th>\n",
              "      <th>Discount</th>\n",
              "      <th>Profit</th>\n",
              "    </tr>\n",
              "  </thead>\n",
              "  <tbody>\n",
              "    <tr>\n",
              "      <th>0</th>\n",
              "      <td>1</td>\n",
              "      <td>CA-2016-152156</td>\n",
              "      <td>2016-11-08</td>\n",
              "      <td>2016-11-11</td>\n",
              "      <td>Second Class</td>\n",
              "      <td>CG-12520</td>\n",
              "      <td>Claire Gute</td>\n",
              "      <td>Consumer</td>\n",
              "      <td>United States</td>\n",
              "      <td>Henderson</td>\n",
              "      <td>...</td>\n",
              "      <td>42420</td>\n",
              "      <td>South</td>\n",
              "      <td>FUR-BO-10001798</td>\n",
              "      <td>Furniture</td>\n",
              "      <td>Bookcases</td>\n",
              "      <td>Bush Somerset Collection Bookcase</td>\n",
              "      <td>261.96</td>\n",
              "      <td>2</td>\n",
              "      <td>0.0</td>\n",
              "      <td>41.9136</td>\n",
              "    </tr>\n",
              "    <tr>\n",
              "      <th>1</th>\n",
              "      <td>2</td>\n",
              "      <td>CA-2016-152156</td>\n",
              "      <td>2016-11-08</td>\n",
              "      <td>2016-11-11</td>\n",
              "      <td>Second Class</td>\n",
              "      <td>CG-12520</td>\n",
              "      <td>Claire Gute</td>\n",
              "      <td>Consumer</td>\n",
              "      <td>United States</td>\n",
              "      <td>Henderson</td>\n",
              "      <td>...</td>\n",
              "      <td>42420</td>\n",
              "      <td>South</td>\n",
              "      <td>FUR-CH-10000454</td>\n",
              "      <td>Furniture</td>\n",
              "      <td>Chairs</td>\n",
              "      <td>Hon Deluxe Fabric Upholstered Stacking Chairs,...</td>\n",
              "      <td>731.94</td>\n",
              "      <td>3</td>\n",
              "      <td>0.0</td>\n",
              "      <td>219.5820</td>\n",
              "    </tr>\n",
              "    <tr>\n",
              "      <th>2</th>\n",
              "      <td>3</td>\n",
              "      <td>CA-2016-138688</td>\n",
              "      <td>2016-06-12</td>\n",
              "      <td>2016-06-16</td>\n",
              "      <td>Second Class</td>\n",
              "      <td>DV-13045</td>\n",
              "      <td>Darrin Van Huff</td>\n",
              "      <td>Corporate</td>\n",
              "      <td>United States</td>\n",
              "      <td>Los Angeles</td>\n",
              "      <td>...</td>\n",
              "      <td>90036</td>\n",
              "      <td>West</td>\n",
              "      <td>OFF-LA-10000240</td>\n",
              "      <td>Office Supplies</td>\n",
              "      <td>Labels</td>\n",
              "      <td>Self-Adhesive Address Labels for Typewriters b...</td>\n",
              "      <td>14.62</td>\n",
              "      <td>2</td>\n",
              "      <td>0.0</td>\n",
              "      <td>6.8714</td>\n",
              "    </tr>\n",
              "  </tbody>\n",
              "</table>\n",
              "<p>3 rows × 21 columns</p>\n",
              "</div>\n",
              "      <button class=\"colab-df-convert\" onclick=\"convertToInteractive('df-e2546fd5-3828-46c2-8874-9c729a7d13c4')\"\n",
              "              title=\"Convert this dataframe to an interactive table.\"\n",
              "              style=\"display:none;\">\n",
              "        \n",
              "  <svg xmlns=\"http://www.w3.org/2000/svg\" height=\"24px\"viewBox=\"0 0 24 24\"\n",
              "       width=\"24px\">\n",
              "    <path d=\"M0 0h24v24H0V0z\" fill=\"none\"/>\n",
              "    <path d=\"M18.56 5.44l.94 2.06.94-2.06 2.06-.94-2.06-.94-.94-2.06-.94 2.06-2.06.94zm-11 1L8.5 8.5l.94-2.06 2.06-.94-2.06-.94L8.5 2.5l-.94 2.06-2.06.94zm10 10l.94 2.06.94-2.06 2.06-.94-2.06-.94-.94-2.06-.94 2.06-2.06.94z\"/><path d=\"M17.41 7.96l-1.37-1.37c-.4-.4-.92-.59-1.43-.59-.52 0-1.04.2-1.43.59L10.3 9.45l-7.72 7.72c-.78.78-.78 2.05 0 2.83L4 21.41c.39.39.9.59 1.41.59.51 0 1.02-.2 1.41-.59l7.78-7.78 2.81-2.81c.8-.78.8-2.07 0-2.86zM5.41 20L4 18.59l7.72-7.72 1.47 1.35L5.41 20z\"/>\n",
              "  </svg>\n",
              "      </button>\n",
              "      \n",
              "  <style>\n",
              "    .colab-df-container {\n",
              "      display:flex;\n",
              "      flex-wrap:wrap;\n",
              "      gap: 12px;\n",
              "    }\n",
              "\n",
              "    .colab-df-convert {\n",
              "      background-color: #E8F0FE;\n",
              "      border: none;\n",
              "      border-radius: 50%;\n",
              "      cursor: pointer;\n",
              "      display: none;\n",
              "      fill: #1967D2;\n",
              "      height: 32px;\n",
              "      padding: 0 0 0 0;\n",
              "      width: 32px;\n",
              "    }\n",
              "\n",
              "    .colab-df-convert:hover {\n",
              "      background-color: #E2EBFA;\n",
              "      box-shadow: 0px 1px 2px rgba(60, 64, 67, 0.3), 0px 1px 3px 1px rgba(60, 64, 67, 0.15);\n",
              "      fill: #174EA6;\n",
              "    }\n",
              "\n",
              "    [theme=dark] .colab-df-convert {\n",
              "      background-color: #3B4455;\n",
              "      fill: #D2E3FC;\n",
              "    }\n",
              "\n",
              "    [theme=dark] .colab-df-convert:hover {\n",
              "      background-color: #434B5C;\n",
              "      box-shadow: 0px 1px 3px 1px rgba(0, 0, 0, 0.15);\n",
              "      filter: drop-shadow(0px 1px 2px rgba(0, 0, 0, 0.3));\n",
              "      fill: #FFFFFF;\n",
              "    }\n",
              "  </style>\n",
              "\n",
              "      <script>\n",
              "        const buttonEl =\n",
              "          document.querySelector('#df-e2546fd5-3828-46c2-8874-9c729a7d13c4 button.colab-df-convert');\n",
              "        buttonEl.style.display =\n",
              "          google.colab.kernel.accessAllowed ? 'block' : 'none';\n",
              "\n",
              "        async function convertToInteractive(key) {\n",
              "          const element = document.querySelector('#df-e2546fd5-3828-46c2-8874-9c729a7d13c4');\n",
              "          const dataTable =\n",
              "            await google.colab.kernel.invokeFunction('convertToInteractive',\n",
              "                                                     [key], {});\n",
              "          if (!dataTable) return;\n",
              "\n",
              "          const docLinkHtml = 'Like what you see? Visit the ' +\n",
              "            '<a target=\"_blank\" href=https://colab.research.google.com/notebooks/data_table.ipynb>data table notebook</a>'\n",
              "            + ' to learn more about interactive tables.';\n",
              "          element.innerHTML = '';\n",
              "          dataTable['output_type'] = 'display_data';\n",
              "          await google.colab.output.renderOutput(dataTable, element);\n",
              "          const docLink = document.createElement('div');\n",
              "          docLink.innerHTML = docLinkHtml;\n",
              "          element.appendChild(docLink);\n",
              "        }\n",
              "      </script>\n",
              "    </div>\n",
              "  </div>\n",
              "  "
            ]
          },
          "metadata": {},
          "execution_count": 4
        }
      ]
    },
    {
      "cell_type": "code",
      "source": [
        "df.shape # 9994 points in the dataset"
      ],
      "metadata": {
        "id": "a5bXWRhGP_8G",
        "outputId": "1104f6c0-12ab-4d3d-fd2c-09421b9ba797",
        "colab": {
          "base_uri": "https://localhost:8080/"
        }
      },
      "execution_count": 5,
      "outputs": [
        {
          "output_type": "execute_result",
          "data": {
            "text/plain": [
              "(9994, 21)"
            ]
          },
          "metadata": {},
          "execution_count": 5
        }
      ]
    },
    {
      "cell_type": "code",
      "metadata": {
        "id": "RUhuWR_Ltcmd",
        "colab": {
          "base_uri": "https://localhost:8080/"
        },
        "outputId": "2f2982fa-63f0-4926-a884-f5156a773d53"
      },
      "source": [
        "Names =df['Category'].drop_duplicates()\n",
        "Names"
      ],
      "execution_count": 6,
      "outputs": [
        {
          "output_type": "execute_result",
          "data": {
            "text/plain": [
              "0          Furniture\n",
              "2    Office Supplies\n",
              "7         Technology\n",
              "Name: Category, dtype: object"
            ]
          },
          "metadata": {},
          "execution_count": 6
        }
      ]
    },
    {
      "cell_type": "code",
      "metadata": {
        "colab": {
          "base_uri": "https://localhost:8080/"
        },
        "id": "ZKiAEGAN1pjb",
        "outputId": "56c0f8a6-df24-4356-cb20-6a6226fe955b"
      },
      "source": [
        "Stuff =df['Sub-Category'].drop_duplicates()\n",
        "Stuff"
      ],
      "execution_count": 7,
      "outputs": [
        {
          "output_type": "execute_result",
          "data": {
            "text/plain": [
              "0        Bookcases\n",
              "1           Chairs\n",
              "2           Labels\n",
              "3           Tables\n",
              "4          Storage\n",
              "5      Furnishings\n",
              "6              Art\n",
              "7           Phones\n",
              "8          Binders\n",
              "9       Appliances\n",
              "12           Paper\n",
              "26     Accessories\n",
              "30       Envelopes\n",
              "53       Fasteners\n",
              "138       Supplies\n",
              "165       Machines\n",
              "335        Copiers\n",
              "Name: Sub-Category, dtype: object"
            ]
          },
          "metadata": {},
          "execution_count": 7
        }
      ]
    },
    {
      "cell_type": "code",
      "metadata": {
        "id": "PsiQSIt-8Mbo"
      },
      "source": [
        "furniture = df.loc[df['Category'] == 'Furniture']\n",
        "furniture = furniture.groupby('Order Date')['Sales'].sum().reset_index()\n",
        "furniture = furniture.set_index('Order Date')\n",
        "\n",
        "y = furniture['Sales'].resample('MS').mean()\n",
        "y = y.reset_index()"
      ],
      "execution_count": 8,
      "outputs": []
    },
    {
      "cell_type": "code",
      "metadata": {
        "id": "CPI16Jdj7h_E"
      },
      "source": [
        "chairs = df.loc[df['Sub-Category'] == 'Chairs']\n",
        "chairs = chairs.groupby('Order Date')['Sales'].sum().reset_index()\n",
        "chairs = chairs.set_index('Order Date')\n",
        "w = chairs['Sales'].resample('MS').mean()\n",
        "w=w.fillna(0)"
      ],
      "execution_count": 9,
      "outputs": []
    },
    {
      "cell_type": "code",
      "metadata": {
        "id": "eYLU1Pk284fs"
      },
      "source": [
        "machines = df.loc[df['Sub-Category'] == 'Machines']\n",
        "machines = machines.groupby('Order Date')['Sales'].sum().reset_index()\n",
        "machines = machines.set_index('Order Date')\n",
        "m = machines['Sales'].resample('MS').mean()\n",
        "m=m.fillna(0) "
      ],
      "execution_count": 10,
      "outputs": []
    },
    {
      "cell_type": "code",
      "metadata": {
        "id": "-PaVYyU28p8o"
      },
      "source": [
        "tables = df.loc[df['Sub-Category'] == 'Tables']\n",
        "tables = tables.groupby('Order Date')['Sales'].sum().reset_index()\n",
        "tables = tables.set_index('Order Date')\n",
        "t = tables['Sales'].resample('MS').mean()\n",
        "t=t.fillna(0) "
      ],
      "execution_count": 11,
      "outputs": []
    },
    {
      "cell_type": "code",
      "source": [
        "plt.plot(furniture)\n",
        "plt.xticks(rotation=45)\n",
        "plt.ylabel('Sales in milions ($)')"
      ],
      "metadata": {
        "colab": {
          "base_uri": "https://localhost:8080/",
          "height": 310
        },
        "id": "5moXRUqHKPDX",
        "outputId": "bf225275-01cd-46c3-941f-d279a90dbf4c"
      },
      "execution_count": 12,
      "outputs": [
        {
          "output_type": "execute_result",
          "data": {
            "text/plain": [
              "Text(0, 0.5, 'Sales in milions ($)')"
            ]
          },
          "metadata": {},
          "execution_count": 12
        },
        {
          "output_type": "display_data",
          "data": {
            "text/plain": [
              "<Figure size 432x288 with 1 Axes>"
            ],
            "image/png": "[encoded data removed]"
          },
          "metadata": {
            "needs_background": "light"
          }
        }
      ]
    },
    {
      "cell_type": "code",
      "source": [
        "print('Profit store:',sum(df['Profit'].values)) # Profit in milions ($)"
      ],
      "metadata": {
        "colab": {
          "base_uri": "https://localhost:8080/"
        },
        "id": "BHZX3VFIKfp3",
        "outputId": "69643275-8bd0-444f-d798-a78488ea0497"
      },
      "execution_count": 13,
      "outputs": [
        {
          "output_type": "stream",
          "name": "stdout",
          "text": [
            "Profit store: 286397.02170000126\n"
          ]
        }
      ]
    },
    {
      "cell_type": "code",
      "metadata": {
        "id": "PObQVjSb0ia9",
        "colab": {
          "base_uri": "https://localhost:8080/"
        },
        "outputId": "e26604c5-0cec-4bd3-d203-f8318c49da83"
      },
      "source": [
        "names = t.index; print(names)"
      ],
      "execution_count": 14,
      "outputs": [
        {
          "output_type": "stream",
          "name": "stdout",
          "text": [
            "DatetimeIndex(['2014-01-01', '2014-02-01', '2014-03-01', '2014-04-01',\n",
            "               '2014-05-01', '2014-06-01', '2014-07-01', '2014-08-01',\n",
            "               '2014-09-01', '2014-10-01', '2014-11-01', '2014-12-01',\n",
            "               '2015-01-01', '2015-02-01', '2015-03-01', '2015-04-01',\n",
            "               '2015-05-01', '2015-06-01', '2015-07-01', '2015-08-01',\n",
            "               '2015-09-01', '2015-10-01', '2015-11-01', '2015-12-01',\n",
            "               '2016-01-01', '2016-02-01', '2016-03-01', '2016-04-01',\n",
            "               '2016-05-01', '2016-06-01', '2016-07-01', '2016-08-01',\n",
            "               '2016-09-01', '2016-10-01', '2016-11-01', '2016-12-01',\n",
            "               '2017-01-01', '2017-02-01', '2017-03-01', '2017-04-01',\n",
            "               '2017-05-01', '2017-06-01', '2017-07-01', '2017-08-01',\n",
            "               '2017-09-01', '2017-10-01', '2017-11-01', '2017-12-01'],\n",
            "              dtype='datetime64[ns]', name='Order Date', freq='MS')\n"
          ]
        }
      ]
    },
    {
      "cell_type": "code",
      "metadata": {
        "id": "Ji1RGaij2Wpi"
      },
      "source": [
        "import datetime\n",
        "months = []\n",
        "for i in names:\n",
        "  months.append(i.month)\n",
        "#months =pd.Series(months).reset_index()"
      ],
      "execution_count": 15,
      "outputs": []
    },
    {
      "cell_type": "code",
      "metadata": {
        "id": "kT2TQuap-Pdw",
        "colab": {
          "base_uri": "https://localhost:8080/"
        },
        "outputId": "4f4a8c66-401a-4136-b303-9387edceaf1f"
      },
      "source": [
        "len(y)"
      ],
      "execution_count": 16,
      "outputs": [
        {
          "output_type": "execute_result",
          "data": {
            "text/plain": [
              "48"
            ]
          },
          "metadata": {},
          "execution_count": 16
        }
      ]
    },
    {
      "cell_type": "code",
      "metadata": {
        "id": "-4Ge4lcx_Kw1"
      },
      "source": [
        "y1 = y.shift(1).values[:,1]\n",
        "y2 = y.shift(2).values[:,1]\n",
        "y3 = y.shift(3).values[:,1]\n",
        "y4 = y.shift(4).values[:,1]\n",
        "y = y.values[:,1]"
      ],
      "execution_count": 17,
      "outputs": []
    },
    {
      "cell_type": "code",
      "metadata": {
        "id": "suYwM6Ux-DC4"
      },
      "source": [
        "dataframe = pd.DataFrame({'mo':months,'t-1':y1,'t-2':y2,'t-3':y3,'y':y})\n",
        "dataframe = dataframe.dropna()"
      ],
      "execution_count": 18,
      "outputs": []
    },
    {
      "cell_type": "code",
      "metadata": {
        "id": "zaOzv0Tp46Tr",
        "colab": {
          "base_uri": "https://localhost:8080/",
          "height": 143
        },
        "outputId": "01b0f4c8-a60c-40e2-93a7-b2c16c0a1a68"
      },
      "source": [
        "# Data used for LSTM (4 entrances and one tardet (y))\n",
        "pd.set_option(\"max_columns\", None)\n",
        "pd.set_option(\"max_rows\", None)\n",
        "dataframe.head(3)"
      ],
      "execution_count": 19,
      "outputs": [
        {
          "output_type": "execute_result",
          "data": {
            "text/plain": [
              "   mo         t-1         t-2         t-3           y\n",
              "3   4  857.291529    367.9316  480.194231  567.488357\n",
              "4   5  567.488357  857.291529    367.9316  432.049188\n",
              "5   6  432.049188  567.488357  857.291529  695.059242"
            ],
            "text/html": [
              "\n",
              "  <div id=\"df-b867ba5b-d007-4714-a337-8f0462d79cb3\">\n",
              "    <div class=\"colab-df-container\">\n",
              "      <div>\n",
              "<style scoped>\n",
              "    .dataframe tbody tr th:only-of-type {\n",
              "        vertical-align: middle;\n",
              "    }\n",
              "\n",
              "    .dataframe tbody tr th {\n",
              "        vertical-align: top;\n",
              "    }\n",
              "\n",
              "    .dataframe thead th {\n",
              "        text-align: right;\n",
              "    }\n",
              "</style>\n",
              "<table border=\"1\" class=\"dataframe\">\n",
              "  <thead>\n",
              "    <tr style=\"text-align: right;\">\n",
              "      <th></th>\n",
              "      <th>mo</th>\n",
              "      <th>t-1</th>\n",
              "      <th>t-2</th>\n",
              "      <th>t-3</th>\n",
              "      <th>y</th>\n",
              "    </tr>\n",
              "  </thead>\n",
              "  <tbody>\n",
              "    <tr>\n",
              "      <th>3</th>\n",
              "      <td>4</td>\n",
              "      <td>857.291529</td>\n",
              "      <td>367.9316</td>\n",
              "      <td>480.194231</td>\n",
              "      <td>567.488357</td>\n",
              "    </tr>\n",
              "    <tr>\n",
              "      <th>4</th>\n",
              "      <td>5</td>\n",
              "      <td>567.488357</td>\n",
              "      <td>857.291529</td>\n",
              "      <td>367.9316</td>\n",
              "      <td>432.049188</td>\n",
              "    </tr>\n",
              "    <tr>\n",
              "      <th>5</th>\n",
              "      <td>6</td>\n",
              "      <td>432.049188</td>\n",
              "      <td>567.488357</td>\n",
              "      <td>857.291529</td>\n",
              "      <td>695.059242</td>\n",
              "    </tr>\n",
              "  </tbody>\n",
              "</table>\n",
              "</div>\n",
              "      <button class=\"colab-df-convert\" onclick=\"convertToInteractive('df-b867ba5b-d007-4714-a337-8f0462d79cb3')\"\n",
              "              title=\"Convert this dataframe to an interactive table.\"\n",
              "              style=\"display:none;\">\n",
              "        \n",
              "  <svg xmlns=\"http://www.w3.org/2000/svg\" height=\"24px\"viewBox=\"0 0 24 24\"\n",
              "       width=\"24px\">\n",
              "    <path d=\"M0 0h24v24H0V0z\" fill=\"none\"/>\n",
              "    <path d=\"M18.56 5.44l.94 2.06.94-2.06 2.06-.94-2.06-.94-.94-2.06-.94 2.06-2.06.94zm-11 1L8.5 8.5l.94-2.06 2.06-.94-2.06-.94L8.5 2.5l-.94 2.06-2.06.94zm10 10l.94 2.06.94-2.06 2.06-.94-2.06-.94-.94-2.06-.94 2.06-2.06.94z\"/><path d=\"M17.41 7.96l-1.37-1.37c-.4-.4-.92-.59-1.43-.59-.52 0-1.04.2-1.43.59L10.3 9.45l-7.72 7.72c-.78.78-.78 2.05 0 2.83L4 21.41c.39.39.9.59 1.41.59.51 0 1.02-.2 1.41-.59l7.78-7.78 2.81-2.81c.8-.78.8-2.07 0-2.86zM5.41 20L4 18.59l7.72-7.72 1.47 1.35L5.41 20z\"/>\n",
              "  </svg>\n",
              "      </button>\n",
              "      \n",
              "  <style>\n",
              "    .colab-df-container {\n",
              "      display:flex;\n",
              "      flex-wrap:wrap;\n",
              "      gap: 12px;\n",
              "    }\n",
              "\n",
              "    .colab-df-convert {\n",
              "      background-color: #E8F0FE;\n",
              "      border: none;\n",
              "      border-radius: 50%;\n",
              "      cursor: pointer;\n",
              "      display: none;\n",
              "      fill: #1967D2;\n",
              "      height: 32px;\n",
              "      padding: 0 0 0 0;\n",
              "      width: 32px;\n",
              "    }\n",
              "\n",
              "    .colab-df-convert:hover {\n",
              "      background-color: #E2EBFA;\n",
              "      box-shadow: 0px 1px 2px rgba(60, 64, 67, 0.3), 0px 1px 3px 1px rgba(60, 64, 67, 0.15);\n",
              "      fill: #174EA6;\n",
              "    }\n",
              "\n",
              "    [theme=dark] .colab-df-convert {\n",
              "      background-color: #3B4455;\n",
              "      fill: #D2E3FC;\n",
              "    }\n",
              "\n",
              "    [theme=dark] .colab-df-convert:hover {\n",
              "      background-color: #434B5C;\n",
              "      box-shadow: 0px 1px 3px 1px rgba(0, 0, 0, 0.15);\n",
              "      filter: drop-shadow(0px 1px 2px rgba(0, 0, 0, 0.3));\n",
              "      fill: #FFFFFF;\n",
              "    }\n",
              "  </style>\n",
              "\n",
              "      <script>\n",
              "        const buttonEl =\n",
              "          document.querySelector('#df-b867ba5b-d007-4714-a337-8f0462d79cb3 button.colab-df-convert');\n",
              "        buttonEl.style.display =\n",
              "          google.colab.kernel.accessAllowed ? 'block' : 'none';\n",
              "\n",
              "        async function convertToInteractive(key) {\n",
              "          const element = document.querySelector('#df-b867ba5b-d007-4714-a337-8f0462d79cb3');\n",
              "          const dataTable =\n",
              "            await google.colab.kernel.invokeFunction('convertToInteractive',\n",
              "                                                     [key], {});\n",
              "          if (!dataTable) return;\n",
              "\n",
              "          const docLinkHtml = 'Like what you see? Visit the ' +\n",
              "            '<a target=\"_blank\" href=https://colab.research.google.com/notebooks/data_table.ipynb>data table notebook</a>'\n",
              "            + ' to learn more about interactive tables.';\n",
              "          element.innerHTML = '';\n",
              "          dataTable['output_type'] = 'display_data';\n",
              "          await google.colab.output.renderOutput(dataTable, element);\n",
              "          const docLink = document.createElement('div');\n",
              "          docLink.innerHTML = docLinkHtml;\n",
              "          element.appendChild(docLink);\n",
              "        }\n",
              "      </script>\n",
              "    </div>\n",
              "  </div>\n",
              "  "
            ]
          },
          "metadata": {},
          "execution_count": 19
        }
      ]
    },
    {
      "cell_type": "code",
      "metadata": {
        "id": "YcpfdGu2Dbzo"
      },
      "source": [
        "X=dataframe.iloc[:,:-1]\n",
        "y=np.array(dataframe.iloc[:,-1]).reshape(-1, 1)"
      ],
      "execution_count": 20,
      "outputs": []
    },
    {
      "cell_type": "code",
      "metadata": {
        "id": "mbvaQKvuEWTQ"
      },
      "source": [
        "rows, cols = X.shape\n",
        "ntrain = int(rows*0.8)\n",
        "X_train=X.iloc[0:ntrain,:].copy()\n",
        "y_train= y[0:ntrain,:].copy()\n",
        "X_test=X.drop(X_train.index)\n",
        "y_test=np.delete(y,range(ntrain))\n",
        "y_train = y_train.reshape(-1, 1)\n",
        "y_test = y_test.reshape(-1, 1)"
      ],
      "execution_count": 21,
      "outputs": []
    },
    {
      "cell_type": "code",
      "metadata": {
        "id": "B6N5k_BVCdri"
      },
      "source": [
        "#, X_test, y_train, y_test = train_test_split(X, y, test_size=0.2, random_state=101)\n",
        "#X_train\n",
        "scalerX = MinMaxScaler() \n",
        "scalerY = MinMaxScaler() \n",
        "scalerX.fit(X_train) \n",
        "scalerY.fit(y_train) \n",
        "X_train = scalerX.transform(X_train)\n",
        "X_test = scalerX.transform(X_test)\n",
        "y_train= scalerY.transform(y_train) \n",
        "y_test= scalerY.transform(y_test)"
      ],
      "execution_count": 22,
      "outputs": []
    },
    {
      "cell_type": "code",
      "metadata": {
        "id": "weovYXt-CipU"
      },
      "source": [
        "for i in range(1):\n",
        "\n",
        "  # model = keras.Sequential()\n",
        "  # Add an Embedding layer expecting input vocab of size 1000, and\n",
        "  # output embedding dimension of size 64.\n",
        "  #model.add(layers.Embedding(input_dim=1000, output_dim=64))\n",
        "\n",
        "  model = Sequential()\n",
        "  # Add a LSTM layer with 128 internal units.\n",
        "  model.add(LSTM(128))\n",
        "\n",
        "  # Add a Dense layer with 10 units.\n",
        "  model.add(Dense(1))\n",
        "\n",
        "  model.compile(loss='mean_squared_error', optimizer='adam')\n",
        "  \n",
        "  #Put in tensor format\n",
        "  X_train = np.reshape(X_train, (X_train.shape[0], 1, X_train.shape[1]))\n",
        "  X_test = np.reshape(X_test, (X_test.shape[0], 1, X_test.shape[1]))\n",
        "  # reshape input to be [samples, time steps, features]\n",
        "  # reshape input to be [samples, time steps, features]\n",
        "\n",
        "  model.fit(X_train, y_train, epochs=200, batch_size=1, verbose=0)\n",
        "  #model.summary()\n",
        "  y_calc_train=model.predict(X_train)\n",
        "  y_calc_test=model.predict(X_test)\n",
        "  mse_test=mean_squared_error(y_test,y_calc_test)\n",
        "  R2_test=r2_score(y_test,y_calc_test)\n",
        "  mse_train=mean_squared_error(y_train,y_calc_train)\n",
        "  R2_train=r2_score(y_train,y_calc_train)"
      ],
      "execution_count": 23,
      "outputs": []
    },
    {
      "cell_type": "code",
      "metadata": {
        "id": "Z_V3ASfyCvfa",
        "colab": {
          "base_uri": "https://localhost:8080/",
          "height": 295
        },
        "outputId": "aa4ae766-9b7c-4538-8ce4-46c5abf1de3a"
      },
      "source": [
        "# Real sales versus predicted sales Plot\n",
        "fig = plt.figure()\n",
        "ax1 = fig.add_subplot(111)\n",
        "ax1.scatter(y_test,y_calc_test, s=10, c='b', marker=\"s\", label='test')\n",
        "ax1.scatter(y_train,y_calc_train, s=10, c='r', marker=\"o\", label='train')\n",
        "ax1.set_xlim([0, 1])\n",
        "ax1.set_ylim([0, 1])\n",
        "plt.legend(loc='upper left')\n",
        "plt.ylabel('Y Calc')\n",
        "plt.xlabel('Y Obs')\n",
        "plt.title('Real sales versus predicted sales')\n",
        "plt.show()"
      ],
      "execution_count": 24,
      "outputs": [
        {
          "output_type": "display_data",
          "data": {
            "text/plain": [
              "<Figure size 432x288 with 1 Axes>"
            ],
            "image/png": "[encoded data removed]"
          },
          "metadata": {
            "needs_background": "light"
          }
        }
      ]
    },
    {
      "cell_type": "code",
      "metadata": {
        "id": "LYFWNxeDXxyA",
        "colab": {
          "base_uri": "https://localhost:8080/"
        },
        "outputId": "bbde6a95-f5a5-4b29-81b4-d1556a2c20ae"
      },
      "source": [
        "mse=mean_squared_error(y_test,y_calc_test)\n",
        "print(\"MSE teste=\",mse)\n",
        "R2=r2_score(y_test,y_calc_test)\n",
        "print(\"R^2 teste=\",R2)"
      ],
      "execution_count": 25,
      "outputs": [
        {
          "output_type": "stream",
          "name": "stdout",
          "text": [
            "MSE teste= 0.014068243024037138\n",
            "R^2 teste= 0.7618942527930654\n"
          ]
        }
      ]
    },
    {
      "cell_type": "code",
      "metadata": {
        "colab": {
          "base_uri": "https://localhost:8080/"
        },
        "id": "owr88npGaV73",
        "outputId": "0bd45444-058b-459d-cfd7-36f39f0af39b"
      },
      "source": [
        "mse=mean_squared_error(y_train,y_calc_train)\n",
        "print(\"MSE train=\",mse)\n",
        "R2=r2_score(y_train,y_calc_train)\n",
        "print(\"R^2 train=\",R2)"
      ],
      "execution_count": 26,
      "outputs": [
        {
          "output_type": "stream",
          "name": "stdout",
          "text": [
            "MSE train= 0.023616651791182316\n",
            "R^2 train= 0.646156762341505\n"
          ]
        }
      ]
    },
    {
      "cell_type": "code",
      "metadata": {
        "id": "BA8zj-jY2EZu"
      },
      "source": [
        "y_calc = y_calc_train.tolist()"
      ],
      "execution_count": 27,
      "outputs": []
    },
    {
      "cell_type": "code",
      "metadata": {
        "id": "pth2NdH124As"
      },
      "source": [
        "for yi in y_calc_test:\n",
        "  y_calc.append(yi)"
      ],
      "execution_count": 28,
      "outputs": []
    },
    {
      "cell_type": "code",
      "metadata": {
        "id": "KczspclD30Q1"
      },
      "source": [
        "y_calc = np.array(y_calc).reshape(1,-1)\n",
        "y_calc = scalerY.inverse_transform(y_calc)"
      ],
      "execution_count": 29,
      "outputs": []
    },
    {
      "cell_type": "code",
      "metadata": {
        "colab": {
          "base_uri": "https://localhost:8080/",
          "height": 279
        },
        "id": "XqBi0bYl3D0C",
        "outputId": "9dd35d58-85d4-471d-d2de-4b73e9fb2fc9"
      },
      "source": [
        "line1, =plt.plot(range(len(y)),y,c='r')\n",
        "line2, =plt.plot(range(len(y)),y_calc[0], c='b')\n",
        "plt.legend([line1,line2],['true','ANN prediction'],loc='upper right')\n",
        "plt.xlabel('Weeks')\n",
        "plt.ylabel('Sales in milions ($) / weeks')\n",
        "plt.show()"
      ],
      "execution_count": 30,
      "outputs": [
        {
          "output_type": "display_data",
          "data": {
            "text/plain": [
              "<Figure size 432x288 with 1 Axes>"
            ],
            "image/png": "[encoded data removed]"
          },
          "metadata": {
            "needs_background": "light"
          }
        }
      ]
    }
  ]
}