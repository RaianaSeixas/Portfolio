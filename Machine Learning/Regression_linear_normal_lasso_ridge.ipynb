{
  "nbformat": 4,
  "nbformat_minor": 0,
  "metadata": {
    "colab": {
      "provenance": [],
      "include_colab_link": true
    },
    "kernelspec": {
      "name": "python3",
      "display_name": "Python 3"
    },
    "language_info": {
      "name": "python"
    }
  },
  "cells": [
    {
      "cell_type": "markdown",
      "metadata": {
        "id": "view-in-github",
        "colab_type": "text"
      },
      "source": [
        "<a href=\"https://colab.research.google.com/github/RaianaSeixas/Portfolio/blob/main/Machine%20Learning/Regression_linear_normal_lasso_ridge.ipynb\" target=\"_parent\"><img src=\"https://colab.research.google.com/assets/colab-badge.svg\" alt=\"Open In Colab\"/></a>"
      ]
    },
    {
      "cell_type": "code",
      "source": [
        "from sklearn import linear_model\n",
        "from sklearn.metrics import r2_score"
      ],
      "metadata": {
        "id": "l3r19YvGql9d"
      },
      "execution_count": null,
      "outputs": []
    },
    {
      "cell_type": "code",
      "source": [
        "# neste exemplo tem duas colunas de variaveis independentes repetidas \n",
        "# o modelo é y = x (caso exclua a variável repetida) e y = 0.5*x1+0.5*x2 (sem excluir)\n",
        "# o código mostra que o método regressao lasso (l1) consegue excluir uma das\n",
        "# variáveis ou seja além de regressão também atua na seleção de variáveis\n",
        "# já a regressão ridge (l2) não fez esta seleção"
      ],
      "metadata": {
        "id": "WzfQ7tjr2pLe"
      },
      "execution_count": null,
      "outputs": []
    },
    {
      "cell_type": "code",
      "execution_count": null,
      "metadata": {
        "colab": {
          "base_uri": "https://localhost:8080/"
        },
        "id": "fE817Vb8o1R-",
        "outputId": "3bd0e84b-436c-4e4c-f3e8-e31906705355"
      },
      "outputs": [
        {
          "output_type": "stream",
          "name": "stdout",
          "text": [
            "[0.5 0.5]\n",
            "1.1102230246251565e-16\n",
            "1.0\n"
          ]
        }
      ],
      "source": [
        "# modelo de regressão tradicional\n",
        "reg = linear_model.LinearRegression()\n",
        "reg.fit([[0, 0], [1, 1], [2, 2]], [0, 1, 2])\n",
        "y_pred = reg.predict([[0, 0], [1, 1], [2, 2]])\n",
        "y_test = [0, 1, 2]\n",
        "print(reg.coef_)\n",
        "print(reg.intercept_)\n",
        "print(r2_score(y_test, y_pred))"
      ]
    },
    {
      "cell_type": "code",
      "source": [
        "# modelo de regressão lasso\n",
        "# note que ele forneceu apenas uma das varávies (a outra tem coef angular zero)\n",
        "reg_lasso = linear_model.Lasso(alpha=0.1)\n",
        "reg_lasso.fit([[0,0], [1, 1], [2, 2]], [0, 1, 2])\n",
        "y_pred = reg_lasso.predict([[0,0], [1, 1], [2, 2]])\n",
        "y_test = [0, 1, 2]\n",
        "print('coeficientes angulares=',reg_lasso.coef_)\n",
        "print('coeficiente linear=',reg_lasso.intercept_)\n",
        "print('r^2=',r2_score(y_test, y_pred))"
      ],
      "metadata": {
        "colab": {
          "base_uri": "https://localhost:8080/"
        },
        "id": "rQeXxatEqEwe",
        "outputId": "2d98baaa-300d-4095-f38c-7765c21b3ade"
      },
      "execution_count": null,
      "outputs": [
        {
          "output_type": "stream",
          "name": "stdout",
          "text": [
            "coeficientes angulares= [0.85 0.  ]\n",
            "coeficiente linear= 0.15000000000000002\n",
            "r^2= 0.9775\n"
          ]
        }
      ]
    },
    {
      "cell_type": "code",
      "source": [
        "# modelo de regressão ridge\n",
        "# note que ele forneceu as duas varávies \n",
        "reg_ridge = linear_model.Ridge(alpha=0.1)\n",
        "reg_ridge.fit([[0,0], [1, 1], [2, 2]], [0, 1, 2])\n",
        "y_pred = reg_ridge.predict([[0,0], [1, 1], [2, 2]])\n",
        "y_test = [0, 1, 2]\n",
        "print('coeficientes angulares=',reg_ridge.coef_)\n",
        "print('coeficiente linear=',reg_ridge.intercept_)\n",
        "print('r^2=',r2_score(y_test, y_pred))"
      ],
      "metadata": {
        "colab": {
          "base_uri": "https://localhost:8080/"
        },
        "id": "_qnqoWcErBs6",
        "outputId": "8e8dd2fa-ba02-49c0-bc97-45eafec4be92"
      },
      "execution_count": null,
      "outputs": [
        {
          "output_type": "stream",
          "name": "stdout",
          "text": [
            "coeficientes angulares= [0.48780488 0.48780488]\n",
            "coeficiente linear= 0.024390243902439157\n",
            "r^2= 0.9994051160023796\n"
          ]
        }
      ]
    }
  ]
}