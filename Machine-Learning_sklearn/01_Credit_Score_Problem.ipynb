{
  "nbformat": 4,
  "nbformat_minor": 0,
  "metadata": {
    "colab": {
      "name": "01_Credit_Score_Problem.ipynb",
      "provenance": [],
      "authorship_tag": "ABX9TyO04qxdAlZZVjPdALdKa0Hs",
      "include_colab_link": true
    },
    "kernelspec": {
      "name": "python3",
      "display_name": "Python 3"
    },
    "language_info": {
      "name": "python"
    }
  },
  "cells": [
    {
      "cell_type": "markdown",
      "metadata": {
        "id": "view-in-github",
        "colab_type": "text"
      },
      "source": [
        "<a href=\"https://colab.research.google.com/github/RaianaSeixas/Portfolio/blob/main/Machine-Learning_sklearn/01_Credit_Score_Problem.ipynb\" target=\"_parent\"><img src=\"https://colab.research.google.com/assets/colab-badge.svg\" alt=\"Open In Colab\"/></a>"
      ]
    },
    {
      "cell_type": "markdown",
      "source": [
        "There's a huge discussion going on regarding credit score vs loan approval. The team asked for you help on that matter. Unfortunately, the company didn't care a lot about data all these years so you don't have much data to explore. After a lot of investigation, the team managed to come up with a dataset with very little information about the clients your company had so far (extracted from old API request logs).\n",
        "Given this data sample:\n",
        "- Perform an Exploratory Data Analysis (EDA) of the dataset\n",
        "- Design and code a model that would be able to compute the estimated probability of a given score ***x*** being approved.\n",
        "\n",
        "\n",
        "----------\n",
        "Author: Raiana Roland Seixas\n",
        "08/16/2022"
      ],
      "metadata": {
        "id": "PAwjR5T7NL_d"
      }
    },
    {
      "cell_type": "markdown",
      "source": [
        "# Data load & Libraries"
      ],
      "metadata": {
        "id": "42JkbZl36imD"
      }
    },
    {
      "cell_type": "code",
      "execution_count": null,
      "metadata": {
        "id": "UZLm4LtLBHy_"
      },
      "outputs": [],
      "source": [
        "import pandas as pd\n",
        "import numpy as np\n",
        "import seaborn as sns\n",
        "import matplotlib.pyplot as plt\n",
        "from sklearn.preprocessing import MinMaxScaler\n",
        "from sklearn.model_selection import train_test_split\n",
        "from sklearn.metrics import accuracy_score, precision_score, recall_score, f1_score, confusion_matrix\n",
        "from sklearn.linear_model import LogisticRegression\n",
        "from sklearn.model_selection import GridSearchCV"
      ]
    },
    {
      "cell_type": "code",
      "source": [
        "!git clone https://github.com/RaianaSeixas/Machine_Learning_Datasets\n",
        "%cd Machine_Learning_Datasets"
      ],
      "metadata": {
        "colab": {
          "base_uri": "https://localhost:8080/"
        },
        "id": "vgd_E_i7Bgeb",
        "outputId": "29969c73-e48f-487e-87fe-5c68b9396c72"
      },
      "execution_count": null,
      "outputs": [
        {
          "output_type": "stream",
          "name": "stdout",
          "text": [
            "Cloning into 'Machine_Learning_Datasets'...\n",
            "remote: Enumerating objects: 21, done.\u001b[K\n",
            "remote: Counting objects: 100% (21/21), done.\u001b[K\n",
            "remote: Compressing objects: 100% (17/17), done.\u001b[K\n",
            "remote: Total 21 (delta 5), reused 0 (delta 0), pack-reused 0\u001b[K\n",
            "Unpacking objects: 100% (21/21), done.\n",
            "/content/Machine_Learning_Datasets/Machine_Learning_Datasets/Machine_Learning_Datasets/Machine_Learning_Datasets/Machine_Learning_Datasets/Machine_Learning_Datasets/Machine_Learning_Datasets/Machine_Learning_Datasets/Machine_Learning_Datasets/Machine_Learning_Datasets/Machine_Learning_Datasets/Machine_Learning_Datasets/Machine_Learning_Datasets\n"
          ]
        }
      ]
    },
    {
      "cell_type": "code",
      "source": [
        "df=pd.read_csv('Credit_score_data.csv')"
      ],
      "metadata": {
        "id": "yQzrOvnJCCCc"
      },
      "execution_count": null,
      "outputs": []
    },
    {
      "cell_type": "code",
      "source": [
        "df.head()"
      ],
      "metadata": {
        "colab": {
          "base_uri": "https://localhost:8080/",
          "height": 206
        },
        "id": "vgio_jO7CMms",
        "outputId": "ff4788d9-9900-484b-bca4-775c8bc6fb3c"
      },
      "execution_count": null,
      "outputs": [
        {
          "output_type": "execute_result",
          "data": {
            "text/plain": [
              "          name                             email  score  approved\n",
              "0     Leuschke              stefania@hoeger.info    636         0\n",
              "1         Funk  herb@heidenreich-schowalter.name    638         1\n",
              "2     Anderson                 davis@schultz.com    778         0\n",
              "3   Bartoletti                   yong@parker.com    333         0\n",
              "4  Satterfield         pamela.larson@oconner.org    357         0"
            ],
            "text/html": [
              "\n",
              "  <div id=\"df-52c46c22-a4eb-4e50-b08c-d18e717973a6\">\n",
              "    <div class=\"colab-df-container\">\n",
              "      <div>\n",
              "<style scoped>\n",
              "    .dataframe tbody tr th:only-of-type {\n",
              "        vertical-align: middle;\n",
              "    }\n",
              "\n",
              "    .dataframe tbody tr th {\n",
              "        vertical-align: top;\n",
              "    }\n",
              "\n",
              "    .dataframe thead th {\n",
              "        text-align: right;\n",
              "    }\n",
              "</style>\n",
              "<table border=\"1\" class=\"dataframe\">\n",
              "  <thead>\n",
              "    <tr style=\"text-align: right;\">\n",
              "      <th></th>\n",
              "      <th>name</th>\n",
              "      <th>email</th>\n",
              "      <th>score</th>\n",
              "      <th>approved</th>\n",
              "    </tr>\n",
              "  </thead>\n",
              "  <tbody>\n",
              "    <tr>\n",
              "      <th>0</th>\n",
              "      <td>Leuschke</td>\n",
              "      <td>stefania@hoeger.info</td>\n",
              "      <td>636</td>\n",
              "      <td>0</td>\n",
              "    </tr>\n",
              "    <tr>\n",
              "      <th>1</th>\n",
              "      <td>Funk</td>\n",
              "      <td>herb@heidenreich-schowalter.name</td>\n",
              "      <td>638</td>\n",
              "      <td>1</td>\n",
              "    </tr>\n",
              "    <tr>\n",
              "      <th>2</th>\n",
              "      <td>Anderson</td>\n",
              "      <td>davis@schultz.com</td>\n",
              "      <td>778</td>\n",
              "      <td>0</td>\n",
              "    </tr>\n",
              "    <tr>\n",
              "      <th>3</th>\n",
              "      <td>Bartoletti</td>\n",
              "      <td>yong@parker.com</td>\n",
              "      <td>333</td>\n",
              "      <td>0</td>\n",
              "    </tr>\n",
              "    <tr>\n",
              "      <th>4</th>\n",
              "      <td>Satterfield</td>\n",
              "      <td>pamela.larson@oconner.org</td>\n",
              "      <td>357</td>\n",
              "      <td>0</td>\n",
              "    </tr>\n",
              "  </tbody>\n",
              "</table>\n",
              "</div>\n",
              "      <button class=\"colab-df-convert\" onclick=\"convertToInteractive('df-52c46c22-a4eb-4e50-b08c-d18e717973a6')\"\n",
              "              title=\"Convert this dataframe to an interactive table.\"\n",
              "              style=\"display:none;\">\n",
              "        \n",
              "  <svg xmlns=\"http://www.w3.org/2000/svg\" height=\"24px\"viewBox=\"0 0 24 24\"\n",
              "       width=\"24px\">\n",
              "    <path d=\"M0 0h24v24H0V0z\" fill=\"none\"/>\n",
              "    <path d=\"M18.56 5.44l.94 2.06.94-2.06 2.06-.94-2.06-.94-.94-2.06-.94 2.06-2.06.94zm-11 1L8.5 8.5l.94-2.06 2.06-.94-2.06-.94L8.5 2.5l-.94 2.06-2.06.94zm10 10l.94 2.06.94-2.06 2.06-.94-2.06-.94-.94-2.06-.94 2.06-2.06.94z\"/><path d=\"M17.41 7.96l-1.37-1.37c-.4-.4-.92-.59-1.43-.59-.52 0-1.04.2-1.43.59L10.3 9.45l-7.72 7.72c-.78.78-.78 2.05 0 2.83L4 21.41c.39.39.9.59 1.41.59.51 0 1.02-.2 1.41-.59l7.78-7.78 2.81-2.81c.8-.78.8-2.07 0-2.86zM5.41 20L4 18.59l7.72-7.72 1.47 1.35L5.41 20z\"/>\n",
              "  </svg>\n",
              "      </button>\n",
              "      \n",
              "  <style>\n",
              "    .colab-df-container {\n",
              "      display:flex;\n",
              "      flex-wrap:wrap;\n",
              "      gap: 12px;\n",
              "    }\n",
              "\n",
              "    .colab-df-convert {\n",
              "      background-color: #E8F0FE;\n",
              "      border: none;\n",
              "      border-radius: 50%;\n",
              "      cursor: pointer;\n",
              "      display: none;\n",
              "      fill: #1967D2;\n",
              "      height: 32px;\n",
              "      padding: 0 0 0 0;\n",
              "      width: 32px;\n",
              "    }\n",
              "\n",
              "    .colab-df-convert:hover {\n",
              "      background-color: #E2EBFA;\n",
              "      box-shadow: 0px 1px 2px rgba(60, 64, 67, 0.3), 0px 1px 3px 1px rgba(60, 64, 67, 0.15);\n",
              "      fill: #174EA6;\n",
              "    }\n",
              "\n",
              "    [theme=dark] .colab-df-convert {\n",
              "      background-color: #3B4455;\n",
              "      fill: #D2E3FC;\n",
              "    }\n",
              "\n",
              "    [theme=dark] .colab-df-convert:hover {\n",
              "      background-color: #434B5C;\n",
              "      box-shadow: 0px 1px 3px 1px rgba(0, 0, 0, 0.15);\n",
              "      filter: drop-shadow(0px 1px 2px rgba(0, 0, 0, 0.3));\n",
              "      fill: #FFFFFF;\n",
              "    }\n",
              "  </style>\n",
              "\n",
              "      <script>\n",
              "        const buttonEl =\n",
              "          document.querySelector('#df-52c46c22-a4eb-4e50-b08c-d18e717973a6 button.colab-df-convert');\n",
              "        buttonEl.style.display =\n",
              "          google.colab.kernel.accessAllowed ? 'block' : 'none';\n",
              "\n",
              "        async function convertToInteractive(key) {\n",
              "          const element = document.querySelector('#df-52c46c22-a4eb-4e50-b08c-d18e717973a6');\n",
              "          const dataTable =\n",
              "            await google.colab.kernel.invokeFunction('convertToInteractive',\n",
              "                                                     [key], {});\n",
              "          if (!dataTable) return;\n",
              "\n",
              "          const docLinkHtml = 'Like what you see? Visit the ' +\n",
              "            '<a target=\"_blank\" href=https://colab.research.google.com/notebooks/data_table.ipynb>data table notebook</a>'\n",
              "            + ' to learn more about interactive tables.';\n",
              "          element.innerHTML = '';\n",
              "          dataTable['output_type'] = 'display_data';\n",
              "          await google.colab.output.renderOutput(dataTable, element);\n",
              "          const docLink = document.createElement('div');\n",
              "          docLink.innerHTML = docLinkHtml;\n",
              "          element.appendChild(docLink);\n",
              "        }\n",
              "      </script>\n",
              "    </div>\n",
              "  </div>\n",
              "  "
            ]
          },
          "metadata": {},
          "execution_count": 342
        }
      ]
    },
    {
      "cell_type": "markdown",
      "source": [
        "# Exploratory Analysis"
      ],
      "metadata": {
        "id": "pim1bqUYDtr0"
      }
    },
    {
      "cell_type": "code",
      "source": [
        "df.info()"
      ],
      "metadata": {
        "colab": {
          "base_uri": "https://localhost:8080/"
        },
        "id": "MqHwpQM_D4AM",
        "outputId": "fe921930-1687-4cde-8289-c1925e5695ef"
      },
      "execution_count": null,
      "outputs": [
        {
          "output_type": "stream",
          "name": "stdout",
          "text": [
            "<class 'pandas.core.frame.DataFrame'>\n",
            "RangeIndex: 800 entries, 0 to 799\n",
            "Data columns (total 4 columns):\n",
            " #   Column    Non-Null Count  Dtype \n",
            "---  ------    --------------  ----- \n",
            " 0   name      800 non-null    object\n",
            " 1   email     800 non-null    object\n",
            " 2   score     800 non-null    int64 \n",
            " 3   approved  800 non-null    int64 \n",
            "dtypes: int64(2), object(2)\n",
            "memory usage: 25.1+ KB\n"
          ]
        }
      ]
    },
    {
      "cell_type": "markdown",
      "source": [
        "There is no missing data."
      ],
      "metadata": {
        "id": "iskTstBAFecE"
      }
    },
    {
      "cell_type": "code",
      "source": [
        "df.describe()"
      ],
      "metadata": {
        "colab": {
          "base_uri": "https://localhost:8080/",
          "height": 300
        },
        "id": "vRxxJEY-Dg29",
        "outputId": "ea6a64a2-5fb8-4734-8d9a-b118277145de"
      },
      "execution_count": null,
      "outputs": [
        {
          "output_type": "execute_result",
          "data": {
            "text/plain": [
              "            score    approved\n",
              "count  800.000000  800.000000\n",
              "mean   614.207500    0.495000\n",
              "std    139.086397    0.500288\n",
              "min    300.000000    0.000000\n",
              "25%    524.500000    0.000000\n",
              "50%    628.500000    0.000000\n",
              "75%    724.250000    1.000000\n",
              "max    840.000000    1.000000"
            ],
            "text/html": [
              "\n",
              "  <div id=\"df-a8e94481-920a-486b-a871-8b17f0b187b3\">\n",
              "    <div class=\"colab-df-container\">\n",
              "      <div>\n",
              "<style scoped>\n",
              "    .dataframe tbody tr th:only-of-type {\n",
              "        vertical-align: middle;\n",
              "    }\n",
              "\n",
              "    .dataframe tbody tr th {\n",
              "        vertical-align: top;\n",
              "    }\n",
              "\n",
              "    .dataframe thead th {\n",
              "        text-align: right;\n",
              "    }\n",
              "</style>\n",
              "<table border=\"1\" class=\"dataframe\">\n",
              "  <thead>\n",
              "    <tr style=\"text-align: right;\">\n",
              "      <th></th>\n",
              "      <th>score</th>\n",
              "      <th>approved</th>\n",
              "    </tr>\n",
              "  </thead>\n",
              "  <tbody>\n",
              "    <tr>\n",
              "      <th>count</th>\n",
              "      <td>800.000000</td>\n",
              "      <td>800.000000</td>\n",
              "    </tr>\n",
              "    <tr>\n",
              "      <th>mean</th>\n",
              "      <td>614.207500</td>\n",
              "      <td>0.495000</td>\n",
              "    </tr>\n",
              "    <tr>\n",
              "      <th>std</th>\n",
              "      <td>139.086397</td>\n",
              "      <td>0.500288</td>\n",
              "    </tr>\n",
              "    <tr>\n",
              "      <th>min</th>\n",
              "      <td>300.000000</td>\n",
              "      <td>0.000000</td>\n",
              "    </tr>\n",
              "    <tr>\n",
              "      <th>25%</th>\n",
              "      <td>524.500000</td>\n",
              "      <td>0.000000</td>\n",
              "    </tr>\n",
              "    <tr>\n",
              "      <th>50%</th>\n",
              "      <td>628.500000</td>\n",
              "      <td>0.000000</td>\n",
              "    </tr>\n",
              "    <tr>\n",
              "      <th>75%</th>\n",
              "      <td>724.250000</td>\n",
              "      <td>1.000000</td>\n",
              "    </tr>\n",
              "    <tr>\n",
              "      <th>max</th>\n",
              "      <td>840.000000</td>\n",
              "      <td>1.000000</td>\n",
              "    </tr>\n",
              "  </tbody>\n",
              "</table>\n",
              "</div>\n",
              "      <button class=\"colab-df-convert\" onclick=\"convertToInteractive('df-a8e94481-920a-486b-a871-8b17f0b187b3')\"\n",
              "              title=\"Convert this dataframe to an interactive table.\"\n",
              "              style=\"display:none;\">\n",
              "        \n",
              "  <svg xmlns=\"http://www.w3.org/2000/svg\" height=\"24px\"viewBox=\"0 0 24 24\"\n",
              "       width=\"24px\">\n",
              "    <path d=\"M0 0h24v24H0V0z\" fill=\"none\"/>\n",
              "    <path d=\"M18.56 5.44l.94 2.06.94-2.06 2.06-.94-2.06-.94-.94-2.06-.94 2.06-2.06.94zm-11 1L8.5 8.5l.94-2.06 2.06-.94-2.06-.94L8.5 2.5l-.94 2.06-2.06.94zm10 10l.94 2.06.94-2.06 2.06-.94-2.06-.94-.94-2.06-.94 2.06-2.06.94z\"/><path d=\"M17.41 7.96l-1.37-1.37c-.4-.4-.92-.59-1.43-.59-.52 0-1.04.2-1.43.59L10.3 9.45l-7.72 7.72c-.78.78-.78 2.05 0 2.83L4 21.41c.39.39.9.59 1.41.59.51 0 1.02-.2 1.41-.59l7.78-7.78 2.81-2.81c.8-.78.8-2.07 0-2.86zM5.41 20L4 18.59l7.72-7.72 1.47 1.35L5.41 20z\"/>\n",
              "  </svg>\n",
              "      </button>\n",
              "      \n",
              "  <style>\n",
              "    .colab-df-container {\n",
              "      display:flex;\n",
              "      flex-wrap:wrap;\n",
              "      gap: 12px;\n",
              "    }\n",
              "\n",
              "    .colab-df-convert {\n",
              "      background-color: #E8F0FE;\n",
              "      border: none;\n",
              "      border-radius: 50%;\n",
              "      cursor: pointer;\n",
              "      display: none;\n",
              "      fill: #1967D2;\n",
              "      height: 32px;\n",
              "      padding: 0 0 0 0;\n",
              "      width: 32px;\n",
              "    }\n",
              "\n",
              "    .colab-df-convert:hover {\n",
              "      background-color: #E2EBFA;\n",
              "      box-shadow: 0px 1px 2px rgba(60, 64, 67, 0.3), 0px 1px 3px 1px rgba(60, 64, 67, 0.15);\n",
              "      fill: #174EA6;\n",
              "    }\n",
              "\n",
              "    [theme=dark] .colab-df-convert {\n",
              "      background-color: #3B4455;\n",
              "      fill: #D2E3FC;\n",
              "    }\n",
              "\n",
              "    [theme=dark] .colab-df-convert:hover {\n",
              "      background-color: #434B5C;\n",
              "      box-shadow: 0px 1px 3px 1px rgba(0, 0, 0, 0.15);\n",
              "      filter: drop-shadow(0px 1px 2px rgba(0, 0, 0, 0.3));\n",
              "      fill: #FFFFFF;\n",
              "    }\n",
              "  </style>\n",
              "\n",
              "      <script>\n",
              "        const buttonEl =\n",
              "          document.querySelector('#df-a8e94481-920a-486b-a871-8b17f0b187b3 button.colab-df-convert');\n",
              "        buttonEl.style.display =\n",
              "          google.colab.kernel.accessAllowed ? 'block' : 'none';\n",
              "\n",
              "        async function convertToInteractive(key) {\n",
              "          const element = document.querySelector('#df-a8e94481-920a-486b-a871-8b17f0b187b3');\n",
              "          const dataTable =\n",
              "            await google.colab.kernel.invokeFunction('convertToInteractive',\n",
              "                                                     [key], {});\n",
              "          if (!dataTable) return;\n",
              "\n",
              "          const docLinkHtml = 'Like what you see? Visit the ' +\n",
              "            '<a target=\"_blank\" href=https://colab.research.google.com/notebooks/data_table.ipynb>data table notebook</a>'\n",
              "            + ' to learn more about interactive tables.';\n",
              "          element.innerHTML = '';\n",
              "          dataTable['output_type'] = 'display_data';\n",
              "          await google.colab.output.renderOutput(dataTable, element);\n",
              "          const docLink = document.createElement('div');\n",
              "          docLink.innerHTML = docLinkHtml;\n",
              "          element.appendChild(docLink);\n",
              "        }\n",
              "      </script>\n",
              "    </div>\n",
              "  </div>\n",
              "  "
            ]
          },
          "metadata": {},
          "execution_count": 344
        }
      ]
    },
    {
      "cell_type": "code",
      "source": [
        "# Frequency distribution of variables\n",
        "df.hist(color='lightsteelblue');"
      ],
      "metadata": {
        "colab": {
          "base_uri": "https://localhost:8080/",
          "height": 281
        },
        "id": "LitLa5ibFnUE",
        "outputId": "09e212f7-24cb-4996-df3e-0c610a01c856"
      },
      "execution_count": null,
      "outputs": [
        {
          "output_type": "display_data",
          "data": {
            "text/plain": [
              "<Figure size 432x288 with 2 Axes>"
            ],
            "image/png": "[encoded data removed]"
          },
          "metadata": {
            "needs_background": "light"
          }
        }
      ]
    },
    {
      "cell_type": "markdown",
      "source": [
        "Classes (0 or 1) are balanced.\n",
        "\n",
        "Score frequency distribution is skewed to the left with the mean smaller then the median."
      ],
      "metadata": {
        "id": "7KESNkxqGLEM"
      }
    },
    {
      "cell_type": "code",
      "source": [
        "sns.boxplot(df['score'])\n",
        "plt.title('Boxplot variable score')"
      ],
      "metadata": {
        "colab": {
          "base_uri": "https://localhost:8080/",
          "height": 367
        },
        "id": "m7WFuEMTF73E",
        "outputId": "65f0fd51-9450-4a12-ad4a-57be40516af8"
      },
      "execution_count": null,
      "outputs": [
        {
          "output_type": "stream",
          "name": "stderr",
          "text": [
            "/usr/local/lib/python3.7/dist-packages/seaborn/_decorators.py:43: FutureWarning: Pass the following variable as a keyword arg: x. From version 0.12, the only valid positional argument will be `data`, and passing other arguments without an explicit keyword will result in an error or misinterpretation.\n",
            "  FutureWarning\n"
          ]
        },
        {
          "output_type": "execute_result",
          "data": {
            "text/plain": [
              "Text(0.5, 1.0, 'Boxplot variable score')"
            ]
          },
          "metadata": {},
          "execution_count": 346
        },
        {
          "output_type": "display_data",
          "data": {
            "text/plain": [
              "<Figure size 432x288 with 1 Axes>"
            ],
            "image/png": "[encoded data removed]"
          },
          "metadata": {
            "needs_background": "light"
          }
        }
      ]
    },
    {
      "cell_type": "code",
      "source": [
        "# Score distribution of approved aplications\n",
        "\n",
        "df[df['approved']==1].describe()"
      ],
      "metadata": {
        "colab": {
          "base_uri": "https://localhost:8080/",
          "height": 300
        },
        "id": "Id_ljnNWLOkV",
        "outputId": "c2814ad3-fb23-4c71-8002-69baaeacdde3"
      },
      "execution_count": null,
      "outputs": [
        {
          "output_type": "execute_result",
          "data": {
            "text/plain": [
              "            score  approved\n",
              "count  396.000000     396.0\n",
              "mean   673.590909       1.0\n",
              "std     98.475901       0.0\n",
              "min    499.000000       1.0\n",
              "25%    588.000000       1.0\n",
              "50%    679.500000       1.0\n",
              "75%    764.000000       1.0\n",
              "max    840.000000       1.0"
            ],
            "text/html": [
              "\n",
              "  <div id=\"df-d3fead14-bd0b-4a84-a398-afc05f9b5368\">\n",
              "    <div class=\"colab-df-container\">\n",
              "      <div>\n",
              "<style scoped>\n",
              "    .dataframe tbody tr th:only-of-type {\n",
              "        vertical-align: middle;\n",
              "    }\n",
              "\n",
              "    .dataframe tbody tr th {\n",
              "        vertical-align: top;\n",
              "    }\n",
              "\n",
              "    .dataframe thead th {\n",
              "        text-align: right;\n",
              "    }\n",
              "</style>\n",
              "<table border=\"1\" class=\"dataframe\">\n",
              "  <thead>\n",
              "    <tr style=\"text-align: right;\">\n",
              "      <th></th>\n",
              "      <th>score</th>\n",
              "      <th>approved</th>\n",
              "    </tr>\n",
              "  </thead>\n",
              "  <tbody>\n",
              "    <tr>\n",
              "      <th>count</th>\n",
              "      <td>396.000000</td>\n",
              "      <td>396.0</td>\n",
              "    </tr>\n",
              "    <tr>\n",
              "      <th>mean</th>\n",
              "      <td>673.590909</td>\n",
              "      <td>1.0</td>\n",
              "    </tr>\n",
              "    <tr>\n",
              "      <th>std</th>\n",
              "      <td>98.475901</td>\n",
              "      <td>0.0</td>\n",
              "    </tr>\n",
              "    <tr>\n",
              "      <th>min</th>\n",
              "      <td>499.000000</td>\n",
              "      <td>1.0</td>\n",
              "    </tr>\n",
              "    <tr>\n",
              "      <th>25%</th>\n",
              "      <td>588.000000</td>\n",
              "      <td>1.0</td>\n",
              "    </tr>\n",
              "    <tr>\n",
              "      <th>50%</th>\n",
              "      <td>679.500000</td>\n",
              "      <td>1.0</td>\n",
              "    </tr>\n",
              "    <tr>\n",
              "      <th>75%</th>\n",
              "      <td>764.000000</td>\n",
              "      <td>1.0</td>\n",
              "    </tr>\n",
              "    <tr>\n",
              "      <th>max</th>\n",
              "      <td>840.000000</td>\n",
              "      <td>1.0</td>\n",
              "    </tr>\n",
              "  </tbody>\n",
              "</table>\n",
              "</div>\n",
              "      <button class=\"colab-df-convert\" onclick=\"convertToInteractive('df-d3fead14-bd0b-4a84-a398-afc05f9b5368')\"\n",
              "              title=\"Convert this dataframe to an interactive table.\"\n",
              "              style=\"display:none;\">\n",
              "        \n",
              "  <svg xmlns=\"http://www.w3.org/2000/svg\" height=\"24px\"viewBox=\"0 0 24 24\"\n",
              "       width=\"24px\">\n",
              "    <path d=\"M0 0h24v24H0V0z\" fill=\"none\"/>\n",
              "    <path d=\"M18.56 5.44l.94 2.06.94-2.06 2.06-.94-2.06-.94-.94-2.06-.94 2.06-2.06.94zm-11 1L8.5 8.5l.94-2.06 2.06-.94-2.06-.94L8.5 2.5l-.94 2.06-2.06.94zm10 10l.94 2.06.94-2.06 2.06-.94-2.06-.94-.94-2.06-.94 2.06-2.06.94z\"/><path d=\"M17.41 7.96l-1.37-1.37c-.4-.4-.92-.59-1.43-.59-.52 0-1.04.2-1.43.59L10.3 9.45l-7.72 7.72c-.78.78-.78 2.05 0 2.83L4 21.41c.39.39.9.59 1.41.59.51 0 1.02-.2 1.41-.59l7.78-7.78 2.81-2.81c.8-.78.8-2.07 0-2.86zM5.41 20L4 18.59l7.72-7.72 1.47 1.35L5.41 20z\"/>\n",
              "  </svg>\n",
              "      </button>\n",
              "      \n",
              "  <style>\n",
              "    .colab-df-container {\n",
              "      display:flex;\n",
              "      flex-wrap:wrap;\n",
              "      gap: 12px;\n",
              "    }\n",
              "\n",
              "    .colab-df-convert {\n",
              "      background-color: #E8F0FE;\n",
              "      border: none;\n",
              "      border-radius: 50%;\n",
              "      cursor: pointer;\n",
              "      display: none;\n",
              "      fill: #1967D2;\n",
              "      height: 32px;\n",
              "      padding: 0 0 0 0;\n",
              "      width: 32px;\n",
              "    }\n",
              "\n",
              "    .colab-df-convert:hover {\n",
              "      background-color: #E2EBFA;\n",
              "      box-shadow: 0px 1px 2px rgba(60, 64, 67, 0.3), 0px 1px 3px 1px rgba(60, 64, 67, 0.15);\n",
              "      fill: #174EA6;\n",
              "    }\n",
              "\n",
              "    [theme=dark] .colab-df-convert {\n",
              "      background-color: #3B4455;\n",
              "      fill: #D2E3FC;\n",
              "    }\n",
              "\n",
              "    [theme=dark] .colab-df-convert:hover {\n",
              "      background-color: #434B5C;\n",
              "      box-shadow: 0px 1px 3px 1px rgba(0, 0, 0, 0.15);\n",
              "      filter: drop-shadow(0px 1px 2px rgba(0, 0, 0, 0.3));\n",
              "      fill: #FFFFFF;\n",
              "    }\n",
              "  </style>\n",
              "\n",
              "      <script>\n",
              "        const buttonEl =\n",
              "          document.querySelector('#df-d3fead14-bd0b-4a84-a398-afc05f9b5368 button.colab-df-convert');\n",
              "        buttonEl.style.display =\n",
              "          google.colab.kernel.accessAllowed ? 'block' : 'none';\n",
              "\n",
              "        async function convertToInteractive(key) {\n",
              "          const element = document.querySelector('#df-d3fead14-bd0b-4a84-a398-afc05f9b5368');\n",
              "          const dataTable =\n",
              "            await google.colab.kernel.invokeFunction('convertToInteractive',\n",
              "                                                     [key], {});\n",
              "          if (!dataTable) return;\n",
              "\n",
              "          const docLinkHtml = 'Like what you see? Visit the ' +\n",
              "            '<a target=\"_blank\" href=https://colab.research.google.com/notebooks/data_table.ipynb>data table notebook</a>'\n",
              "            + ' to learn more about interactive tables.';\n",
              "          element.innerHTML = '';\n",
              "          dataTable['output_type'] = 'display_data';\n",
              "          await google.colab.output.renderOutput(dataTable, element);\n",
              "          const docLink = document.createElement('div');\n",
              "          docLink.innerHTML = docLinkHtml;\n",
              "          element.appendChild(docLink);\n",
              "        }\n",
              "      </script>\n",
              "    </div>\n",
              "  </div>\n",
              "  "
            ]
          },
          "metadata": {},
          "execution_count": 347
        }
      ]
    },
    {
      "cell_type": "code",
      "source": [
        "# Score distribution of not approved aplications\n",
        "\n",
        "df[df['approved']==0].describe()"
      ],
      "metadata": {
        "colab": {
          "base_uri": "https://localhost:8080/",
          "height": 300
        },
        "id": "n-XWdM8RLqHD",
        "outputId": "94a8fc0a-ff48-4eb5-9522-158be1305197"
      },
      "execution_count": null,
      "outputs": [
        {
          "output_type": "execute_result",
          "data": {
            "text/plain": [
              "           score  approved\n",
              "count  404.00000     404.0\n",
              "mean   556.00000       0.0\n",
              "std    148.28142       0.0\n",
              "min    300.00000       0.0\n",
              "25%    433.00000       0.0\n",
              "50%    561.00000       0.0\n",
              "75%    676.75000       0.0\n",
              "max    810.00000       0.0"
            ],
            "text/html": [
              "\n",
              "  <div id=\"df-c3cf65b2-6b42-43c9-87c8-3c56301f560d\">\n",
              "    <div class=\"colab-df-container\">\n",
              "      <div>\n",
              "<style scoped>\n",
              "    .dataframe tbody tr th:only-of-type {\n",
              "        vertical-align: middle;\n",
              "    }\n",
              "\n",
              "    .dataframe tbody tr th {\n",
              "        vertical-align: top;\n",
              "    }\n",
              "\n",
              "    .dataframe thead th {\n",
              "        text-align: right;\n",
              "    }\n",
              "</style>\n",
              "<table border=\"1\" class=\"dataframe\">\n",
              "  <thead>\n",
              "    <tr style=\"text-align: right;\">\n",
              "      <th></th>\n",
              "      <th>score</th>\n",
              "      <th>approved</th>\n",
              "    </tr>\n",
              "  </thead>\n",
              "  <tbody>\n",
              "    <tr>\n",
              "      <th>count</th>\n",
              "      <td>404.00000</td>\n",
              "      <td>404.0</td>\n",
              "    </tr>\n",
              "    <tr>\n",
              "      <th>mean</th>\n",
              "      <td>556.00000</td>\n",
              "      <td>0.0</td>\n",
              "    </tr>\n",
              "    <tr>\n",
              "      <th>std</th>\n",
              "      <td>148.28142</td>\n",
              "      <td>0.0</td>\n",
              "    </tr>\n",
              "    <tr>\n",
              "      <th>min</th>\n",
              "      <td>300.00000</td>\n",
              "      <td>0.0</td>\n",
              "    </tr>\n",
              "    <tr>\n",
              "      <th>25%</th>\n",
              "      <td>433.00000</td>\n",
              "      <td>0.0</td>\n",
              "    </tr>\n",
              "    <tr>\n",
              "      <th>50%</th>\n",
              "      <td>561.00000</td>\n",
              "      <td>0.0</td>\n",
              "    </tr>\n",
              "    <tr>\n",
              "      <th>75%</th>\n",
              "      <td>676.75000</td>\n",
              "      <td>0.0</td>\n",
              "    </tr>\n",
              "    <tr>\n",
              "      <th>max</th>\n",
              "      <td>810.00000</td>\n",
              "      <td>0.0</td>\n",
              "    </tr>\n",
              "  </tbody>\n",
              "</table>\n",
              "</div>\n",
              "      <button class=\"colab-df-convert\" onclick=\"convertToInteractive('df-c3cf65b2-6b42-43c9-87c8-3c56301f560d')\"\n",
              "              title=\"Convert this dataframe to an interactive table.\"\n",
              "              style=\"display:none;\">\n",
              "        \n",
              "  <svg xmlns=\"http://www.w3.org/2000/svg\" height=\"24px\"viewBox=\"0 0 24 24\"\n",
              "       width=\"24px\">\n",
              "    <path d=\"M0 0h24v24H0V0z\" fill=\"none\"/>\n",
              "    <path d=\"M18.56 5.44l.94 2.06.94-2.06 2.06-.94-2.06-.94-.94-2.06-.94 2.06-2.06.94zm-11 1L8.5 8.5l.94-2.06 2.06-.94-2.06-.94L8.5 2.5l-.94 2.06-2.06.94zm10 10l.94 2.06.94-2.06 2.06-.94-2.06-.94-.94-2.06-.94 2.06-2.06.94z\"/><path d=\"M17.41 7.96l-1.37-1.37c-.4-.4-.92-.59-1.43-.59-.52 0-1.04.2-1.43.59L10.3 9.45l-7.72 7.72c-.78.78-.78 2.05 0 2.83L4 21.41c.39.39.9.59 1.41.59.51 0 1.02-.2 1.41-.59l7.78-7.78 2.81-2.81c.8-.78.8-2.07 0-2.86zM5.41 20L4 18.59l7.72-7.72 1.47 1.35L5.41 20z\"/>\n",
              "  </svg>\n",
              "      </button>\n",
              "      \n",
              "  <style>\n",
              "    .colab-df-container {\n",
              "      display:flex;\n",
              "      flex-wrap:wrap;\n",
              "      gap: 12px;\n",
              "    }\n",
              "\n",
              "    .colab-df-convert {\n",
              "      background-color: #E8F0FE;\n",
              "      border: none;\n",
              "      border-radius: 50%;\n",
              "      cursor: pointer;\n",
              "      display: none;\n",
              "      fill: #1967D2;\n",
              "      height: 32px;\n",
              "      padding: 0 0 0 0;\n",
              "      width: 32px;\n",
              "    }\n",
              "\n",
              "    .colab-df-convert:hover {\n",
              "      background-color: #E2EBFA;\n",
              "      box-shadow: 0px 1px 2px rgba(60, 64, 67, 0.3), 0px 1px 3px 1px rgba(60, 64, 67, 0.15);\n",
              "      fill: #174EA6;\n",
              "    }\n",
              "\n",
              "    [theme=dark] .colab-df-convert {\n",
              "      background-color: #3B4455;\n",
              "      fill: #D2E3FC;\n",
              "    }\n",
              "\n",
              "    [theme=dark] .colab-df-convert:hover {\n",
              "      background-color: #434B5C;\n",
              "      box-shadow: 0px 1px 3px 1px rgba(0, 0, 0, 0.15);\n",
              "      filter: drop-shadow(0px 1px 2px rgba(0, 0, 0, 0.3));\n",
              "      fill: #FFFFFF;\n",
              "    }\n",
              "  </style>\n",
              "\n",
              "      <script>\n",
              "        const buttonEl =\n",
              "          document.querySelector('#df-c3cf65b2-6b42-43c9-87c8-3c56301f560d button.colab-df-convert');\n",
              "        buttonEl.style.display =\n",
              "          google.colab.kernel.accessAllowed ? 'block' : 'none';\n",
              "\n",
              "        async function convertToInteractive(key) {\n",
              "          const element = document.querySelector('#df-c3cf65b2-6b42-43c9-87c8-3c56301f560d');\n",
              "          const dataTable =\n",
              "            await google.colab.kernel.invokeFunction('convertToInteractive',\n",
              "                                                     [key], {});\n",
              "          if (!dataTable) return;\n",
              "\n",
              "          const docLinkHtml = 'Like what you see? Visit the ' +\n",
              "            '<a target=\"_blank\" href=https://colab.research.google.com/notebooks/data_table.ipynb>data table notebook</a>'\n",
              "            + ' to learn more about interactive tables.';\n",
              "          element.innerHTML = '';\n",
              "          dataTable['output_type'] = 'display_data';\n",
              "          await google.colab.output.renderOutput(dataTable, element);\n",
              "          const docLink = document.createElement('div');\n",
              "          docLink.innerHTML = docLinkHtml;\n",
              "          element.appendChild(docLink);\n",
              "        }\n",
              "      </script>\n",
              "    </div>\n",
              "  </div>\n",
              "  "
            ]
          },
          "metadata": {},
          "execution_count": 348
        }
      ]
    },
    {
      "cell_type": "code",
      "source": [
        "sns.boxplot(y = 'score', x = 'approved', data = df,  palette=\"Paired\")\n",
        "plt.title('Boxplot score comparison between the 2 classes')"
      ],
      "metadata": {
        "colab": {
          "base_uri": "https://localhost:8080/",
          "height": 312
        },
        "id": "2mueQ_AcIo4L",
        "outputId": "808ade53-9fc8-42a6-dc64-86e649793d88"
      },
      "execution_count": null,
      "outputs": [
        {
          "output_type": "execute_result",
          "data": {
            "text/plain": [
              "Text(0.5, 1.0, 'Boxplot score comparison between the 2 classes')"
            ]
          },
          "metadata": {},
          "execution_count": 349
        },
        {
          "output_type": "display_data",
          "data": {
            "text/plain": [
              "<Figure size 432x288 with 1 Axes>"
            ],
            "image/png": "[encoded data removed]"
          },
          "metadata": {
            "needs_background": "light"
          }
        }
      ]
    },
    {
      "cell_type": "markdown",
      "source": [
        "We can observe that no person with score less than 499 had the loan approved, even though a considerable number of people with score between 700 and 810 had the loan not approved, suggesting that there are other variables not present in the dataset that are being considered in this decision."
      ],
      "metadata": {
        "id": "l0VcTxMeLu_8"
      }
    },
    {
      "cell_type": "markdown",
      "source": [
        "# Predictive Model\n",
        "\n",
        "Since the proposed goal is to predicted the approval probability, for the sake of simplicity I decided to solve the problem using logistc regression. \n",
        "Other methods suitable for binary classification such as randon forest, xgboost, ANN, SVM, etc., could be used in conjunction with the calculation of Logloss, Brier Score or calibration plot to predict the approval probability."
      ],
      "metadata": {
        "id": "bQSae52IO5CG"
      }
    },
    {
      "cell_type": "code",
      "source": [
        "# Train and test split (85% of data for trainning and validation, 15% of the data for testing)\n",
        "\n",
        "X=df['score']\n",
        "y=df['approved']\n",
        "X_train_o, X_test_o, y_train, y_test = \\\n",
        "    train_test_split(X, y, test_size=0.15,  random_state=None, shuffle=True) "
      ],
      "metadata": {
        "id": "z-L3VqAFOf7v"
      },
      "execution_count": null,
      "outputs": []
    },
    {
      "cell_type": "code",
      "source": [
        "# Variable scaling\n",
        "\n",
        "def scaling(data):\n",
        "  data_res=data.values.reshape(-1,1)\n",
        "  scaler= MinMaxScaler().fit(data_res)\n",
        "  data_scaled= scaler.transform(data_res)\n",
        "  return data_scaled\n",
        "\n",
        "X_train=scaling(X_train_o)\n",
        "X_test=scaling(X_test_o)"
      ],
      "metadata": {
        "id": "jxaLreBGRdk2"
      },
      "execution_count": null,
      "outputs": []
    },
    {
      "cell_type": "code",
      "source": [
        "# Model\n",
        "\n",
        "#lr= LogisticRegression( random_state=0) # create model\n",
        "lr= LogisticRegression(solver='lbfgs', random_state=None) # create model\n",
        "lr.fit(X_train, y_train) # training model\n",
        "y_pred = lr.predict(X_test) #prediction step\n",
        "y_pred_train = lr.predict(X_train)  #prediction train step"
      ],
      "metadata": {
        "id": "-2oft2Hw53NW"
      },
      "execution_count": null,
      "outputs": []
    },
    {
      "cell_type": "code",
      "source": [
        "# Model performance evaluation\n",
        "\n",
        "print('Trainning dataset')\n",
        "print()\n",
        "print(\" Acurácia: {0:.5f}\".format(accuracy_score(y_train, y_pred_train)))\n",
        "print(\" Precisão: {0:.5f}\".format(precision_score(y_train, y_pred_train)))\n",
        "print(\"   Recall: {0:.5f}\".format(recall_score(y_train, y_pred_train)))\n",
        "print(\" f1 score: {0:.5f}\".format(f1_score(y_train, y_pred_train)))\n",
        "print()\n",
        "print('Test dataset')\n",
        "print()\n",
        "print(\" Acurácia: {0:.5f}\".format(accuracy_score(y_test, y_pred)))\n",
        "print(\" Precisão: {0:.5f}\".format(precision_score(y_test, y_pred)))\n",
        "print(\"   Recall: {0:.5f}\".format(recall_score(y_test, y_pred)))\n",
        "print(\" f1 score: {0:.5f}\".format(f1_score(y_test, y_pred)))\n",
        "print()"
      ],
      "metadata": {
        "colab": {
          "base_uri": "https://localhost:8080/"
        },
        "outputId": "43c25ebc-4a7f-49ec-9a95-1c2d03c590e2",
        "id": "FnVGkyHTpXd8"
      },
      "execution_count": null,
      "outputs": [
        {
          "output_type": "stream",
          "name": "stdout",
          "text": [
            "Trainning dataset\n",
            "\n",
            " Acurácia: 0.63382\n",
            " Precisão: 0.62717\n",
            "   Recall: 0.64392\n",
            " f1 score: 0.63543\n",
            "\n",
            "Test dataset\n",
            "\n",
            " Acurácia: 0.70000\n",
            " Precisão: 0.67164\n",
            "   Recall: 0.76271\n",
            " f1 score: 0.71429\n",
            "\n"
          ]
        }
      ]
    },
    {
      "cell_type": "markdown",
      "source": [
        "## Solver Optimization \n",
        "Logistic Regression, don't really have critical hyperparameters to tune. The solver though, can have some impact in some cases."
      ],
      "metadata": {
        "id": "aUAfHFevpb_H"
      }
    },
    {
      "cell_type": "code",
      "source": [
        "param_grid = {\n",
        "    'solver': ['lbfgs', 'sag', 'saga','newton-cg', 'liblinear' ],\n",
        "}\n",
        "\n",
        "CV_lr = GridSearchCV(\n",
        "    lr,\n",
        "    param_grid=param_grid,\n",
        "    cv=5,\n",
        "    scoring='f1', \n",
        "    verbose=10,\n",
        "    n_jobs=1,\n",
        ")\n",
        "CV_lr.fit(X_train, y_train)"
      ],
      "metadata": {
        "colab": {
          "base_uri": "https://localhost:8080/"
        },
        "id": "EohuzZt9n29I",
        "outputId": "8b13e474-9bac-406d-9a1d-763db45cd1f1"
      },
      "execution_count": null,
      "outputs": [
        {
          "output_type": "stream",
          "name": "stdout",
          "text": [
            "Fitting 5 folds for each of 5 candidates, totalling 25 fits\n",
            "[CV 1/5; 1/5] START solver=lbfgs................................................\n",
            "[CV 1/5; 1/5] END .................solver=lbfgs;, score=0.580 total time=   0.0s\n",
            "[CV 2/5; 1/5] START solver=lbfgs................................................\n",
            "[CV 2/5; 1/5] END .................solver=lbfgs;, score=0.623 total time=   0.0s\n",
            "[CV 3/5; 1/5] START solver=lbfgs................................................\n",
            "[CV 3/5; 1/5] END .................solver=lbfgs;, score=0.667 total time=   0.0s\n",
            "[CV 4/5; 1/5] START solver=lbfgs................................................\n",
            "[CV 4/5; 1/5] END .................solver=lbfgs;, score=0.625 total time=   0.0s\n",
            "[CV 5/5; 1/5] START solver=lbfgs................................................\n",
            "[CV 5/5; 1/5] END .................solver=lbfgs;, score=0.657 total time=   0.0s\n",
            "[CV 1/5; 2/5] START solver=sag..................................................\n",
            "[CV 1/5; 2/5] END ...................solver=sag;, score=0.580 total time=   0.0s\n",
            "[CV 2/5; 2/5] START solver=sag..................................................\n",
            "[CV 2/5; 2/5] END ...................solver=sag;, score=0.623 total time=   0.0s\n",
            "[CV 3/5; 2/5] START solver=sag..................................................\n",
            "[CV 3/5; 2/5] END ...................solver=sag;, score=0.667 total time=   0.0s\n",
            "[CV 4/5; 2/5] START solver=sag..................................................\n",
            "[CV 4/5; 2/5] END ...................solver=sag;, score=0.625 total time=   0.0s\n",
            "[CV 5/5; 2/5] START solver=sag..................................................\n",
            "[CV 5/5; 2/5] END ...................solver=sag;, score=0.676 total time=   0.0s\n",
            "[CV 1/5; 3/5] START solver=saga.................................................\n",
            "[CV 1/5; 3/5] END ..................solver=saga;, score=0.580 total time=   0.0s\n",
            "[CV 2/5; 3/5] START solver=saga.................................................\n",
            "[CV 2/5; 3/5] END ..................solver=saga;, score=0.623 total time=   0.0s\n",
            "[CV 3/5; 3/5] START solver=saga.................................................\n",
            "[CV 3/5; 3/5] END ..................solver=saga;, score=0.667 total time=   0.0s\n",
            "[CV 4/5; 3/5] START solver=saga.................................................\n",
            "[CV 4/5; 3/5] END ..................solver=saga;, score=0.625 total time=   0.0s\n",
            "[CV 5/5; 3/5] START solver=saga.................................................\n",
            "[CV 5/5; 3/5] END ..................solver=saga;, score=0.657 total time=   0.0s\n",
            "[CV 1/5; 4/5] START solver=newton-cg............................................\n",
            "[CV 1/5; 4/5] END .............solver=newton-cg;, score=0.580 total time=   0.0s\n",
            "[CV 2/5; 4/5] START solver=newton-cg............................................\n",
            "[CV 2/5; 4/5] END .............solver=newton-cg;, score=0.623 total time=   0.0s\n",
            "[CV 3/5; 4/5] START solver=newton-cg............................................\n",
            "[CV 3/5; 4/5] END .............solver=newton-cg;, score=0.667 total time=   0.0s\n",
            "[CV 4/5; 4/5] START solver=newton-cg............................................\n",
            "[CV 4/5; 4/5] END .............solver=newton-cg;, score=0.625 total time=   0.0s\n",
            "[CV 5/5; 4/5] START solver=newton-cg............................................\n",
            "[CV 5/5; 4/5] END .............solver=newton-cg;, score=0.657 total time=   0.0s\n",
            "[CV 1/5; 5/5] START solver=liblinear............................................\n",
            "[CV 1/5; 5/5] END .............solver=liblinear;, score=0.590 total time=   0.0s\n",
            "[CV 2/5; 5/5] START solver=liblinear............................................\n",
            "[CV 2/5; 5/5] END .............solver=liblinear;, score=0.629 total time=   0.0s\n",
            "[CV 3/5; 5/5] START solver=liblinear............................................\n",
            "[CV 3/5; 5/5] END .............solver=liblinear;, score=0.667 total time=   0.0s\n",
            "[CV 4/5; 5/5] START solver=liblinear............................................\n",
            "[CV 4/5; 5/5] END .............solver=liblinear;, score=0.631 total time=   0.0s\n",
            "[CV 5/5; 5/5] START solver=liblinear............................................\n",
            "[CV 5/5; 5/5] END .............solver=liblinear;, score=0.676 total time=   0.0s\n"
          ]
        },
        {
          "output_type": "execute_result",
          "data": {
            "text/plain": [
              "GridSearchCV(cv=5, estimator=LogisticRegression(), n_jobs=1,\n",
              "             param_grid={'solver': ['lbfgs', 'sag', 'saga', 'newton-cg',\n",
              "                                    'liblinear']},\n",
              "             scoring='f1', verbose=10)"
            ]
          },
          "metadata": {},
          "execution_count": 354
        }
      ]
    },
    {
      "cell_type": "code",
      "source": [
        "CV_lr.best_params_"
      ],
      "metadata": {
        "colab": {
          "base_uri": "https://localhost:8080/"
        },
        "id": "Lz9WArjrpnzw",
        "outputId": "3a063188-859a-4289-a2a9-88a04ef3e8ca"
      },
      "execution_count": null,
      "outputs": [
        {
          "output_type": "execute_result",
          "data": {
            "text/plain": [
              "{'solver': 'liblinear'}"
            ]
          },
          "metadata": {},
          "execution_count": 355
        }
      ]
    },
    {
      "cell_type": "code",
      "source": [
        "y_pred_ = CV_lr.predict(X_test) #prediction step"
      ],
      "metadata": {
        "id": "9HWlkeubs_In"
      },
      "execution_count": null,
      "outputs": []
    },
    {
      "cell_type": "code",
      "source": [
        "print('Test dataset')\n",
        "print()\n",
        "print(\" Acurácia: {0:.5f}\".format(accuracy_score(y_test, y_pred_)))\n",
        "print(\" Precisão: {0:.5f}\".format(precision_score(y_test, y_pred_)))\n",
        "print(\"   Recall: {0:.5f}\".format(recall_score(y_test, y_pred_)))\n",
        "print(\" f1 score: {0:.5f}\".format(f1_score(y_test, y_pred_)))\n",
        "print()"
      ],
      "metadata": {
        "colab": {
          "base_uri": "https://localhost:8080/"
        },
        "id": "HXOpPuBHtP3X",
        "outputId": "bfa55fea-6c09-41b6-a3ca-f2853b5e764e"
      },
      "execution_count": null,
      "outputs": [
        {
          "output_type": "stream",
          "name": "stdout",
          "text": [
            "Test dataset\n",
            "\n",
            " Acurácia: 0.70000\n",
            " Precisão: 0.67164\n",
            "   Recall: 0.76271\n",
            " f1 score: 0.71429\n",
            "\n"
          ]
        }
      ]
    },
    {
      "cell_type": "code",
      "source": [
        "confusion_matrix(y_test,y_pred_)"
      ],
      "metadata": {
        "colab": {
          "base_uri": "https://localhost:8080/"
        },
        "id": "YiaYImom2GCx",
        "outputId": "b8e71718-25bf-4c99-e7bb-3da8db05e387"
      },
      "execution_count": null,
      "outputs": [
        {
          "output_type": "execute_result",
          "data": {
            "text/plain": [
              "array([[39, 22],\n",
              "       [14, 45]])"
            ]
          },
          "metadata": {},
          "execution_count": 358
        }
      ]
    },
    {
      "cell_type": "markdown",
      "source": [
        "It can be observed that the solver did not show a significative impact on the results. The f1-score of the model is between 60 and 70% for most seeds. In most cases, the recall is higher than the precision, indicating that there is more false positive than false negative (what could be expected by observing the boxplot for the score variable by class). In other words, the model predicts better people that will have the loan application declined.\n"
      ],
      "metadata": {
        "id": "H96XWs1Gy7Ph"
      }
    },
    {
      "cell_type": "markdown",
      "source": [
        "## Forcast"
      ],
      "metadata": {
        "id": "VT9hTenyvaPY"
      }
    },
    {
      "cell_type": "markdown",
      "source": [
        "### Probability of loan approval according to the model for test dataset"
      ],
      "metadata": {
        "id": "K8AlIgm4xd7w"
      }
    },
    {
      "cell_type": "code",
      "source": [
        "y_prob_pred = lr.predict_proba(X_test) # returns for each point an array  with the probability of belonging to each of the classes\n",
        "y_prob_pred = y_prob_pred[:,1] # get the probability of being approved \n",
        "\n",
        "df_test=pd.DataFrame({'Score': X_test_o.tolist(),\n",
        "                      'Approved': y_test.tolist()})\n",
        "\n",
        "df_test['Predicted Approval Probability']=y_prob_pred.tolist()\n",
        "df_test"
      ],
      "metadata": {
        "id": "sOdpuxOmQdyy",
        "colab": {
          "base_uri": "https://localhost:8080/",
          "height": 424
        },
        "outputId": "fe7f6da0-b9d7-4472-e120-042a792049f0"
      },
      "execution_count": null,
      "outputs": [
        {
          "output_type": "execute_result",
          "data": {
            "text/plain": [
              "     Score  Approved  Predicted Approval Probability\n",
              "0      762         0                        0.698761\n",
              "1      421         0                        0.240478\n",
              "2      685         0                        0.596696\n",
              "3      802         1                        0.745548\n",
              "4      594         1                        0.465125\n",
              "..     ...       ...                             ...\n",
              "115    790         1                        0.732026\n",
              "116    802         1                        0.745548\n",
              "117    635         0                        0.524908\n",
              "118    444         0                        0.265858\n",
              "119    774         1                        0.713304\n",
              "\n",
              "[120 rows x 3 columns]"
            ],
            "text/html": [
              "\n",
              "  <div id=\"df-f6c8c1b2-80ca-43e8-8ed8-ced221e1e3bc\">\n",
              "    <div class=\"colab-df-container\">\n",
              "      <div>\n",
              "<style scoped>\n",
              "    .dataframe tbody tr th:only-of-type {\n",
              "        vertical-align: middle;\n",
              "    }\n",
              "\n",
              "    .dataframe tbody tr th {\n",
              "        vertical-align: top;\n",
              "    }\n",
              "\n",
              "    .dataframe thead th {\n",
              "        text-align: right;\n",
              "    }\n",
              "</style>\n",
              "<table border=\"1\" class=\"dataframe\">\n",
              "  <thead>\n",
              "    <tr style=\"text-align: right;\">\n",
              "      <th></th>\n",
              "      <th>Score</th>\n",
              "      <th>Approved</th>\n",
              "      <th>Predicted Approval Probability</th>\n",
              "    </tr>\n",
              "  </thead>\n",
              "  <tbody>\n",
              "    <tr>\n",
              "      <th>0</th>\n",
              "      <td>762</td>\n",
              "      <td>0</td>\n",
              "      <td>0.698761</td>\n",
              "    </tr>\n",
              "    <tr>\n",
              "      <th>1</th>\n",
              "      <td>421</td>\n",
              "      <td>0</td>\n",
              "      <td>0.240478</td>\n",
              "    </tr>\n",
              "    <tr>\n",
              "      <th>2</th>\n",
              "      <td>685</td>\n",
              "      <td>0</td>\n",
              "      <td>0.596696</td>\n",
              "    </tr>\n",
              "    <tr>\n",
              "      <th>3</th>\n",
              "      <td>802</td>\n",
              "      <td>1</td>\n",
              "      <td>0.745548</td>\n",
              "    </tr>\n",
              "    <tr>\n",
              "      <th>4</th>\n",
              "      <td>594</td>\n",
              "      <td>1</td>\n",
              "      <td>0.465125</td>\n",
              "    </tr>\n",
              "    <tr>\n",
              "      <th>...</th>\n",
              "      <td>...</td>\n",
              "      <td>...</td>\n",
              "      <td>...</td>\n",
              "    </tr>\n",
              "    <tr>\n",
              "      <th>115</th>\n",
              "      <td>790</td>\n",
              "      <td>1</td>\n",
              "      <td>0.732026</td>\n",
              "    </tr>\n",
              "    <tr>\n",
              "      <th>116</th>\n",
              "      <td>802</td>\n",
              "      <td>1</td>\n",
              "      <td>0.745548</td>\n",
              "    </tr>\n",
              "    <tr>\n",
              "      <th>117</th>\n",
              "      <td>635</td>\n",
              "      <td>0</td>\n",
              "      <td>0.524908</td>\n",
              "    </tr>\n",
              "    <tr>\n",
              "      <th>118</th>\n",
              "      <td>444</td>\n",
              "      <td>0</td>\n",
              "      <td>0.265858</td>\n",
              "    </tr>\n",
              "    <tr>\n",
              "      <th>119</th>\n",
              "      <td>774</td>\n",
              "      <td>1</td>\n",
              "      <td>0.713304</td>\n",
              "    </tr>\n",
              "  </tbody>\n",
              "</table>\n",
              "<p>120 rows × 3 columns</p>\n",
              "</div>\n",
              "      <button class=\"colab-df-convert\" onclick=\"convertToInteractive('df-f6c8c1b2-80ca-43e8-8ed8-ced221e1e3bc')\"\n",
              "              title=\"Convert this dataframe to an interactive table.\"\n",
              "              style=\"display:none;\">\n",
              "        \n",
              "  <svg xmlns=\"http://www.w3.org/2000/svg\" height=\"24px\"viewBox=\"0 0 24 24\"\n",
              "       width=\"24px\">\n",
              "    <path d=\"M0 0h24v24H0V0z\" fill=\"none\"/>\n",
              "    <path d=\"M18.56 5.44l.94 2.06.94-2.06 2.06-.94-2.06-.94-.94-2.06-.94 2.06-2.06.94zm-11 1L8.5 8.5l.94-2.06 2.06-.94-2.06-.94L8.5 2.5l-.94 2.06-2.06.94zm10 10l.94 2.06.94-2.06 2.06-.94-2.06-.94-.94-2.06-.94 2.06-2.06.94z\"/><path d=\"M17.41 7.96l-1.37-1.37c-.4-.4-.92-.59-1.43-.59-.52 0-1.04.2-1.43.59L10.3 9.45l-7.72 7.72c-.78.78-.78 2.05 0 2.83L4 21.41c.39.39.9.59 1.41.59.51 0 1.02-.2 1.41-.59l7.78-7.78 2.81-2.81c.8-.78.8-2.07 0-2.86zM5.41 20L4 18.59l7.72-7.72 1.47 1.35L5.41 20z\"/>\n",
              "  </svg>\n",
              "      </button>\n",
              "      \n",
              "  <style>\n",
              "    .colab-df-container {\n",
              "      display:flex;\n",
              "      flex-wrap:wrap;\n",
              "      gap: 12px;\n",
              "    }\n",
              "\n",
              "    .colab-df-convert {\n",
              "      background-color: #E8F0FE;\n",
              "      border: none;\n",
              "      border-radius: 50%;\n",
              "      cursor: pointer;\n",
              "      display: none;\n",
              "      fill: #1967D2;\n",
              "      height: 32px;\n",
              "      padding: 0 0 0 0;\n",
              "      width: 32px;\n",
              "    }\n",
              "\n",
              "    .colab-df-convert:hover {\n",
              "      background-color: #E2EBFA;\n",
              "      box-shadow: 0px 1px 2px rgba(60, 64, 67, 0.3), 0px 1px 3px 1px rgba(60, 64, 67, 0.15);\n",
              "      fill: #174EA6;\n",
              "    }\n",
              "\n",
              "    [theme=dark] .colab-df-convert {\n",
              "      background-color: #3B4455;\n",
              "      fill: #D2E3FC;\n",
              "    }\n",
              "\n",
              "    [theme=dark] .colab-df-convert:hover {\n",
              "      background-color: #434B5C;\n",
              "      box-shadow: 0px 1px 3px 1px rgba(0, 0, 0, 0.15);\n",
              "      filter: drop-shadow(0px 1px 2px rgba(0, 0, 0, 0.3));\n",
              "      fill: #FFFFFF;\n",
              "    }\n",
              "  </style>\n",
              "\n",
              "      <script>\n",
              "        const buttonEl =\n",
              "          document.querySelector('#df-f6c8c1b2-80ca-43e8-8ed8-ced221e1e3bc button.colab-df-convert');\n",
              "        buttonEl.style.display =\n",
              "          google.colab.kernel.accessAllowed ? 'block' : 'none';\n",
              "\n",
              "        async function convertToInteractive(key) {\n",
              "          const element = document.querySelector('#df-f6c8c1b2-80ca-43e8-8ed8-ced221e1e3bc');\n",
              "          const dataTable =\n",
              "            await google.colab.kernel.invokeFunction('convertToInteractive',\n",
              "                                                     [key], {});\n",
              "          if (!dataTable) return;\n",
              "\n",
              "          const docLinkHtml = 'Like what you see? Visit the ' +\n",
              "            '<a target=\"_blank\" href=https://colab.research.google.com/notebooks/data_table.ipynb>data table notebook</a>'\n",
              "            + ' to learn more about interactive tables.';\n",
              "          element.innerHTML = '';\n",
              "          dataTable['output_type'] = 'display_data';\n",
              "          await google.colab.output.renderOutput(dataTable, element);\n",
              "          const docLink = document.createElement('div');\n",
              "          docLink.innerHTML = docLinkHtml;\n",
              "          element.appendChild(docLink);\n",
              "        }\n",
              "      </script>\n",
              "    </div>\n",
              "  </div>\n",
              "  "
            ]
          },
          "metadata": {},
          "execution_count": 359
        }
      ]
    },
    {
      "cell_type": "markdown",
      "source": [
        "### Function to obtain the probability and the odds for a given score"
      ],
      "metadata": {
        "id": "HnRnDKPXXPYx"
      }
    },
    {
      "cell_type": "code",
      "source": [
        "def prediction(x):\n",
        "  x_scaled = (x - X.min())/ (X.max() - X.min())\n",
        "  prob_approval=lr.predict_proba([[x_scaled]])[0][1]\n",
        "  prob_fail=lr.predict_proba([[x_scaled]])[0][0]\n",
        "  odds= prob_approval/prob_fail\n",
        "  print('Approval Probability: ',round(prob_approval,4))\n",
        "  print('Approval Odds: ',round(odds,4))\n",
        "  #return prob_approval,odds\n",
        "  return None"
      ],
      "metadata": {
        "id": "TXtgyoj5XOah"
      },
      "execution_count": null,
      "outputs": []
    },
    {
      "cell_type": "code",
      "source": [
        "# For score = 480\n",
        "prediction(480)"
      ],
      "metadata": {
        "colab": {
          "base_uri": "https://localhost:8080/"
        },
        "id": "fums9IinSdh3",
        "outputId": "666cdf1e-44a4-468b-c12c-840053146bcd"
      },
      "execution_count": null,
      "outputs": [
        {
          "output_type": "stream",
          "name": "stdout",
          "text": [
            "Approval Probability:  0.308\n",
            "Approval Odds:  0.4451\n"
          ]
        }
      ]
    },
    {
      "cell_type": "code",
      "source": [
        "# For score = 675\n",
        "prediction(675)"
      ],
      "metadata": {
        "colab": {
          "base_uri": "https://localhost:8080/"
        },
        "id": "_KZejsrtTrMe",
        "outputId": "f7931a75-d2b0-44de-ce60-605aee0fb444"
      },
      "execution_count": null,
      "outputs": [
        {
          "output_type": "stream",
          "name": "stdout",
          "text": [
            "Approval Probability:  0.5806\n",
            "Approval Odds:  1.3843\n"
          ]
        }
      ]
    },
    {
      "cell_type": "markdown",
      "source": [
        "### Visualization of model behavior in terms of probability values for values from 281 to 998."
      ],
      "metadata": {
        "id": "47q442oyWHgX"
      }
    },
    {
      "cell_type": "code",
      "source": [
        "X1=[item for item in range(281, 998+1)] # creating dataset\n",
        "#X1_=np.array(X1).reshape(-1,1)\n",
        "X1_scaled=scaling(pd.Series(X1)) #scaling\n",
        "y1 = lr.predict_proba(X1_scaled) # probabily of approval given the model "
      ],
      "metadata": {
        "id": "Dx8dNM5pWG79"
      },
      "execution_count": null,
      "outputs": []
    },
    {
      "cell_type": "code",
      "source": [
        "y1"
      ],
      "metadata": {
        "colab": {
          "base_uri": "https://localhost:8080/"
        },
        "id": "dX3V37XVc6qN",
        "outputId": "759e7af0-02c7-41c1-9114-878750a54642"
      },
      "execution_count": null,
      "outputs": [
        {
          "output_type": "execute_result",
          "data": {
            "text/plain": [
              "array([[0.86491269, 0.13508731],\n",
              "       [0.86439987, 0.13560013],\n",
              "       [0.86388541, 0.13611459],\n",
              "       ...,\n",
              "       [0.21814939, 0.78185061],\n",
              "       [0.2174029 , 0.7825971 ],\n",
              "       [0.21665826, 0.78334174]])"
            ]
          },
          "metadata": {},
          "execution_count": 364
        }
      ]
    },
    {
      "cell_type": "code",
      "source": [
        "i=0\n",
        "y=[]\n",
        "for i in y1:\n",
        "  y.append(i[1])"
      ],
      "metadata": {
        "id": "KQBE0woheine"
      },
      "execution_count": null,
      "outputs": []
    },
    {
      "cell_type": "code",
      "source": [
        "plt.plot(X1,y)\n",
        "plt.title('Predicted Approval probability by score')\n",
        "plt.xlabel('Score')\n",
        "plt.ylabel('Probability')"
      ],
      "metadata": {
        "colab": {
          "base_uri": "https://localhost:8080/",
          "height": 312
        },
        "id": "j6dEfRowgG-2",
        "outputId": "87cbc7fb-5d53-480e-f8ec-60d2775661f0"
      },
      "execution_count": null,
      "outputs": [
        {
          "output_type": "execute_result",
          "data": {
            "text/plain": [
              "Text(0, 0.5, 'Probability')"
            ]
          },
          "metadata": {},
          "execution_count": 366
        },
        {
          "output_type": "display_data",
          "data": {
            "text/plain": [
              "<Figure size 432x288 with 1 Axes>"
            ],
            "image/png": "[encoded data removed]"
          },
          "metadata": {
            "needs_background": "light"
          }
        }
      ]
    },
    {
      "cell_type": "markdown",
      "source": [
        "## Conclusions \n",
        "\n",
        "The proposed model is able to provide a probability of approval or not of a loan based on the person credit score. The class prediction presents an error for approximately 30 and 40% of the cases. Evaluating loan approval considering only one variable is clearly a limitation. Also the dataset is small. Thus is suggest collect more data and evaluate other variables that may have impact in the response, in order to improve the model reliability."
      ],
      "metadata": {
        "id": "fLOBh36c5khR"
      }
    }
  ]
}