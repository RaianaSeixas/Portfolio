{
  "nbformat": 4,
  "nbformat_minor": 0,
  "metadata": {
    "colab": {
      "name": "Titanic_Dataset_Logistic-Regression_Features_Selection.ipynb",
      "provenance": [],
      "authorship_tag": "ABX9TyNYfQP+3jQiByV06sUVpKSa",
      "include_colab_link": true
    },
    "kernelspec": {
      "name": "python3",
      "display_name": "Python 3"
    },
    "language_info": {
      "name": "python"
    }
  },
  "cells": [
    {
      "cell_type": "markdown",
      "metadata": {
        "id": "view-in-github",
        "colab_type": "text"
      },
      "source": [
        "<a href=\"https://colab.research.google.com/github/RaianaSeixas/Portifolio/blob/main/Machine-Learning_sklearn/Titanic_Dataset_Logistic_Regression_Features_Selection.ipynb\" target=\"_parent\"><img src=\"https://colab.research.google.com/assets/colab-badge.svg\" alt=\"Open In Colab\"/></a>"
      ]
    },
    {
      "cell_type": "code",
      "execution_count": null,
      "metadata": {
        "colab": {
          "base_uri": "https://localhost:8080/"
        },
        "id": "Wnaonqn2wejo",
        "outputId": "993f5192-367a-46d7-e735-68fadda4c0fa"
      },
      "outputs": [
        {
          "output_type": "stream",
          "name": "stdout",
          "text": [
            "Logistic Regression with all features\n",
            "accuracy: 0.79930806830445\n",
            "precision: 0.7665301625421368\n",
            "recall: 0.6891801830446764\n",
            "f1 score: 0.7252020202020202\n",
            "\n",
            "Logistic Regression with Pclass, Sex & Age features\n",
            "accuracy: 0.7936393067987051\n",
            "precision: 0.7482272939776446\n",
            "recall: 0.7023745955324903\n",
            "f1 score: 0.7230624514942603\n",
            "\n",
            "Logistic Regression with Fare & Age features\n",
            "accuracy: 0.6539389322668698\n",
            "precision: 0.6445977011494254\n",
            "recall: 0.23531858559588903\n",
            "f1 score: 0.34096962176174606\n"
          ]
        }
      ],
      "source": [
        "from sklearn.model_selection import KFold\n",
        "from sklearn.linear_model import LogisticRegression\n",
        "from sklearn.metrics import accuracy_score, precision_score, recall_score, f1_score\n",
        "import pandas as pd\n",
        "import numpy as np\n",
        "\n",
        "df = pd.read_csv('https://sololearn.com/uploads/files/titanic.csv')\n",
        "df['male'] = df['Sex'] == 'male'\n",
        "\n",
        "kf = KFold(n_splits=5, shuffle=True)\n",
        "\n",
        "X1 = df[['Pclass', 'male', 'Age', 'Siblings/Spouses', 'Parents/Children', 'Fare']].values\n",
        "X2 = df[['Pclass', 'male', 'Age']].values\n",
        "X3 = df[['Fare', 'Age']].values\n",
        "y = df['Survived'].values\n",
        "\n",
        "def score_model(X, y, kf):\n",
        "    accuracy_scores = []\n",
        "    precision_scores = []\n",
        "    recall_scores = []\n",
        "    f1_scores = []\n",
        "    for train_index, test_index in kf.split(X):\n",
        "        X_train, X_test = X[train_index], X[test_index]\n",
        "        y_train, y_test = y[train_index], y[test_index]\n",
        "        model = LogisticRegression()\n",
        "        model.fit(X_train, y_train)\n",
        "        y_pred = model.predict(X_test)\n",
        "        accuracy_scores.append(accuracy_score(y_test, y_pred))\n",
        "        precision_scores.append(precision_score(y_test, y_pred))\n",
        "        recall_scores.append(recall_score(y_test, y_pred))\n",
        "        f1_scores.append(f1_score(y_test, y_pred))\n",
        "    print(\"accuracy:\", np.mean(accuracy_scores))\n",
        "    print(\"precision:\", np.mean(precision_scores))\n",
        "    print(\"recall:\", np.mean(recall_scores))\n",
        "    print(\"f1 score:\", np.mean(f1_scores))\n",
        "\n",
        "print(\"Logistic Regression with all features\")\n",
        "score_model(X1, y, kf)\n",
        "print()\n",
        "print(\"Logistic Regression with Pclass, Sex & Age features\")\n",
        "score_model(X2, y, kf)\n",
        "print()\n",
        "print(\"Logistic Regression with Fare & Age features\")\n",
        "score_model(X3, y, kf)"
      ]
    }
  ]
}