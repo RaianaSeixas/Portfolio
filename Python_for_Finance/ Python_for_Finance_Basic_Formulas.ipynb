{
  "nbformat": 4,
  "nbformat_minor": 0,
  "metadata": {
    "colab": {
      "name": "Python for Finance.ipynb",
      "provenance": [],
      "authorship_tag": "ABX9TyP2NEKAsTVVHeTIAlygWzpR",
      "include_colab_link": true
    },
    "kernelspec": {
      "name": "python3",
      "display_name": "Python 3"
    },
    "language_info": {
      "name": "python"
    }
  },
  "cells": [
    {
      "cell_type": "markdown",
      "metadata": {
        "id": "view-in-github",
        "colab_type": "text"
      },
      "source": [
        "<a href=\"https://colab.research.google.com/github/RaianaSeixas/Portifolio/blob/main/Python_for_Finance/%20Python_for_Finance_Basic_Formulas.ipynb\" target=\"_parent\"><img src=\"https://colab.research.google.com/assets/colab-badge.svg\" alt=\"Open In Colab\"/></a>"
      ]
    },
    {
      "cell_type": "markdown",
      "source": [
        "Python for Finance"
      ],
      "metadata": {
        "id": "41e-Z6wOlG5U"
      }
    },
    {
      "cell_type": "code",
      "source": [
        "#Libraries\n",
        "!pip install numpy_financial\n",
        "import numpy_financial as npf\n",
        "import numpy as np"
      ],
      "metadata": {
        "colab": {
          "base_uri": "https://localhost:8080/"
        },
        "id": "C36PH-SCrJQR",
        "outputId": "037cdf62-e9db-4cb1-b684-c823ba0aa7fb"
      },
      "execution_count": 11,
      "outputs": [
        {
          "output_type": "stream",
          "name": "stdout",
          "text": [
            "Looking in indexes: https://pypi.org/simple, https://us-python.pkg.dev/colab-wheels/public/simple/\n",
            "Requirement already satisfied: numpy_financial in /usr/local/lib/python3.7/dist-packages (1.0.0)\n",
            "Requirement already satisfied: numpy>=1.15 in /usr/local/lib/python3.7/dist-packages (from numpy_financial) (1.21.6)\n"
          ]
        }
      ]
    },
    {
      "cell_type": "code",
      "execution_count": 12,
      "metadata": {
        "colab": {
          "base_uri": "https://localhost:8080/"
        },
        "id": "1V9q-OqHlEv5",
        "outputId": "c15403c6-01aa-40f5-a5d3-6cfd2205e708"
      },
      "outputs": [
        {
          "output_type": "stream",
          "name": "stdout",
          "text": [
            "\n",
            "Future value= 1469.3280768000006\n"
          ]
        }
      ],
      "source": [
        "#Future value of an investment\n",
        "\n",
        "res = npf.fv(rate=0.08, nper=5, pmt=0, pv=-1000)\n",
        "\n",
        "'''\n",
        "The code will return the value you will get if you invest today R$1000 with an anual rate of 8% during 5 years.\n",
        "\n",
        "fv is the future. \n",
        "nper is the number of periods.\n",
        "pv is the present value, which in our case is an investment of $1000, thus the negative sign.\n",
        "pmt corresponds to periodic payments/investments, which in our case is 0\n",
        "'''\n",
        "\n",
        "print()\n",
        "print('Future value=',res)\n",
        "\n"
      ]
    },
    {
      "cell_type": "code",
      "source": [
        "# Present value of an investment\n",
        "\n",
        "''' The code will result in the amount you need to invest today to get to 1000 in 8 years'''\n",
        "\n",
        "res = npf.pv(rate = 0.10, nper=8, pmt=0, fv=1000)\n",
        "print('Present Value',res)"
      ],
      "metadata": {
        "colab": {
          "base_uri": "https://localhost:8080/"
        },
        "id": "Dz6KSWVBrT3O",
        "outputId": "c704f3e8-e7e8-41aa-9be6-43da701f52d0"
      },
      "execution_count": 13,
      "outputs": [
        {
          "output_type": "stream",
          "name": "stdout",
          "text": [
            "Present Value -466.50738020973307\n"
          ]
        }
      ]
    },
    {
      "cell_type": "code",
      "source": [
        "# Statistics metrics\n",
        "\n",
        "prices = [42.8, 102.03, 240.38, 80.9]\n",
        "\n",
        "print('Mean=',np.mean(prices))\n",
        "\n",
        "print('Standard Deviation=', np.std(prices))\n",
        "\n",
        "print('Sum=',np.sum(prices))\n",
        "\n",
        "print('Max=',np.max(prices))\n",
        "\n",
        "print('Min=',np.min(prices))\n"
      ],
      "metadata": {
        "colab": {
          "base_uri": "https://localhost:8080/"
        },
        "id": "N6bKtPc8lsBt",
        "outputId": "f28d55ec-4012-4bfc-ecbe-62c463f403eb"
      },
      "execution_count": 14,
      "outputs": [
        {
          "output_type": "stream",
          "name": "stdout",
          "text": [
            "Mean= 116.5275\n",
            "Standard Deviation= 74.59001654879827\n",
            "Sum= 466.11\n",
            "Max= 240.38\n",
            "Min= 42.8\n"
          ]
        }
      ]
    }
  ]
}