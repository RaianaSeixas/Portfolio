{
  "nbformat": 4,
  "nbformat_minor": 0,
  "metadata": {
    "colab": {
      "name": "01_Finacial_Basic_Formulas.ipynb",
      "provenance": [],
      "authorship_tag": "ABX9TyMFgPKYBpZtzeKTjqkKjoQv",
      "include_colab_link": true
    },
    "kernelspec": {
      "name": "python3",
      "display_name": "Python 3"
    },
    "language_info": {
      "name": "python"
    }
  },
  "cells": [
    {
      "cell_type": "markdown",
      "metadata": {
        "id": "view-in-github",
        "colab_type": "text"
      },
      "source": [
        "<a href=\"https://colab.research.google.com/github/RaianaSeixas/Portifolio/blob/main/Python_for_Finance/01_Finacial_Basic_Formulas.ipynb\" target=\"_parent\"><img src=\"https://colab.research.google.com/assets/colab-badge.svg\" alt=\"Open In Colab\"/></a>"
      ]
    },
    {
      "cell_type": "markdown",
      "source": [
        "Python for Finance"
      ],
      "metadata": {
        "id": "41e-Z6wOlG5U"
      }
    },
    {
      "cell_type": "code",
      "source": [
        "#Libraries\n",
        "!pip install numpy_financial\n",
        "import numpy_financial as npf\n",
        "import numpy as np"
      ],
      "metadata": {
        "colab": {
          "base_uri": "https://localhost:8080/"
        },
        "id": "C36PH-SCrJQR",
        "outputId": "90623bd3-4bd0-487d-b987-a1784cea91e0"
      },
      "execution_count": null,
      "outputs": [
        {
          "output_type": "stream",
          "name": "stdout",
          "text": [
            "Looking in indexes: https://pypi.org/simple, https://us-python.pkg.dev/colab-wheels/public/simple/\n",
            "Collecting numpy_financial\n",
            "  Downloading numpy_financial-1.0.0-py3-none-any.whl (14 kB)\n",
            "Requirement already satisfied: numpy>=1.15 in /usr/local/lib/python3.7/dist-packages (from numpy_financial) (1.21.6)\n",
            "Installing collected packages: numpy-financial\n",
            "Successfully installed numpy-financial-1.0.0\n"
          ]
        }
      ]
    },
    {
      "cell_type": "code",
      "execution_count": null,
      "metadata": {
        "colab": {
          "base_uri": "https://localhost:8080/"
        },
        "id": "1V9q-OqHlEv5",
        "outputId": "4b80de92-40da-43e6-fa72-d78b7bc2811f"
      },
      "outputs": [
        {
          "output_type": "stream",
          "name": "stdout",
          "text": [
            "\n",
            "Future value= 1469.3280768000006\n"
          ]
        }
      ],
      "source": [
        "#Future value of an investment\n",
        "\n",
        "res = npf.fv(rate=0.08, nper=5, pmt=0, pv=-1000)\n",
        "\n",
        "'''\n",
        "The code will return the value you will get if you invest today R$1000 with an anual rate of 8% during 5 years.\n",
        "\n",
        "fv is the future. \n",
        "nper is the number of periods.\n",
        "pv is the present value, which in our case is an investment of $1000, thus the negative sign.\n",
        "pmt corresponds to periodic payments/investments, which in our case is 0\n",
        "'''\n",
        "\n",
        "print()\n",
        "print('Future value=',res)\n",
        "\n"
      ]
    },
    {
      "cell_type": "code",
      "source": [
        "# Present value of an investment\n",
        "\n",
        "''' The code will result in the amount you need to invest today to get to 1000 in 8 years'''\n",
        "\n",
        "res = npf.pv(rate = 0.10, nper=8, pmt=0, fv=1000)\n",
        "print('Present Value',res)"
      ],
      "metadata": {
        "colab": {
          "base_uri": "https://localhost:8080/"
        },
        "id": "Dz6KSWVBrT3O",
        "outputId": "a2e79602-36f4-47bc-b429-78979c9e4a9e"
      },
      "execution_count": null,
      "outputs": [
        {
          "output_type": "stream",
          "name": "stdout",
          "text": [
            "Present Value -466.50738020973307\n"
          ]
        }
      ]
    },
    {
      "cell_type": "code",
      "source": [
        "# Monthly investment deposits\n",
        "\n",
        "'''\n",
        "The code will return the monthly deposits needed to achieve 200,000 in 10 years with 10% annual interest, considering an initial saving amount (pv) of 10,000 .\n",
        "\n",
        "pmt() function, in the case,  returns the periodic deposit one must make to achieve a specified future balance with a given interest rate.\n",
        "'''\n",
        "\n",
        "res = npf.pmt(rate=0.10/12, nper=10*12, pv=-10000, fv=200000) \n",
        "print('Monthly deposit',res)"
      ],
      "metadata": {
        "colab": {
          "base_uri": "https://localhost:8080/"
        },
        "id": "up6b_pKkzYeb",
        "outputId": "0d359f4c-6f7b-4fa8-e5f4-9ffdcb7bdd03"
      },
      "execution_count": null,
      "outputs": [
        {
          "output_type": "stream",
          "name": "stdout",
          "text": [
            "Monthly deposit -844.1973340868099\n"
          ]
        }
      ]
    },
    {
      "cell_type": "code",
      "source": [
        "# Monthly Loan Payments\n",
        "\n",
        "'''\n",
        "The code calculates how much we have to pay monthly to pay back a loan of 100,000 in 5 years. The yearly interest rate is 7%, and is calculated monthly.\n",
        "\n",
        "pmt function, in the case, returns the payment against loan principal plus interest.\n",
        "In the case we need to pay back the loan completely, the future value (fv) is set to 0.\n",
        "'''\n",
        "i_rate=0.07/12\n",
        "parcels=5*12\n",
        "res = npf.pmt(rate=i_rate, nper=parcels, pv=100000, fv=0) \n",
        "print('Monthly Loan Payment=',res)"
      ],
      "metadata": {
        "colab": {
          "base_uri": "https://localhost:8080/"
        },
        "id": "jsQJdg_BtQzg",
        "outputId": "36d00ef8-d810-4414-9403-323988bec162"
      },
      "execution_count": null,
      "outputs": [
        {
          "output_type": "stream",
          "name": "stdout",
          "text": [
            "Monthly Loan Payment= -1980.1198540349467\n"
          ]
        }
      ]
    },
    {
      "cell_type": "code",
      "source": [
        "# Statistics metrics\n",
        "\n",
        "prices = [42.8, 102.03, 240.38, 80.9]\n",
        "\n",
        "print('Mean=',np.mean(prices))\n",
        "\n",
        "print('Standard Deviation=', np.std(prices))\n",
        "\n",
        "print('Sum=',np.sum(prices))\n",
        "\n",
        "print('Max=',np.max(prices))\n",
        "\n",
        "print('Min=',np.min(prices))\n"
      ],
      "metadata": {
        "colab": {
          "base_uri": "https://localhost:8080/"
        },
        "id": "N6bKtPc8lsBt",
        "outputId": "b9a1d7d0-49c7-4625-bdbb-9d52b3eef28b"
      },
      "execution_count": null,
      "outputs": [
        {
          "output_type": "stream",
          "name": "stdout",
          "text": [
            "Mean= 116.5275\n",
            "Standard Deviation= 74.59001654879827\n",
            "Sum= 466.11\n",
            "Max= 240.38\n",
            "Min= 42.8\n"
          ]
        }
      ]
    },
    {
      "cell_type": "code",
      "source": [
        "#IRR (Internal Rate of Return) of an investiment\n",
        "'''\n",
        "Let's assume we invested 5000 and got the following payments back: 500, 700, 1000, 3000.\n",
        "To calculate the IRR, we first need to declare an array with the values, with the first value being our initial investment\n",
        "'''\n",
        "\n",
        "cashflow = [-5000, 500, 700, 1000, 3000]\n",
        "irr=npf.irr(cashflow)\n",
        "print('Internal rate o return=', irr )"
      ],
      "metadata": {
        "colab": {
          "base_uri": "https://localhost:8080/"
        },
        "id": "To_jC7H3c_IL",
        "outputId": "c5f7631e-c2e3-472b-b551-1dd419deb4e9"
      },
      "execution_count": null,
      "outputs": [
        {
          "output_type": "stream",
          "name": "stdout",
          "text": [
            "Internal rate o return= 0.012164656866492818\n"
          ]
        }
      ]
    },
    {
      "cell_type": "code",
      "source": [
        "# Comparing IRR\n",
        "\n",
        "cf1 = [-50000, 10000, 25000, 25000, 35000, 42000]\n",
        "cf2 = [-30000, 10000, 13000, 18000, 25000, 20000]\n",
        "\n",
        "print(\"Option 1: \", npf.irr(cf1))\n",
        "print(\"Option 2: \", npf.irr(cf2))\n",
        "print() \n",
        "\n",
        "if cf1>cf2:\n",
        "  print(\"Option 1 is the best investment\")\n",
        "else:\n",
        "  print(\"Option 2 is the best investment\")\n"
      ],
      "metadata": {
        "colab": {
          "base_uri": "https://localhost:8080/"
        },
        "id": "rqR3fLuMif_u",
        "outputId": "244b7d76-b9c1-4810-9b4b-774b7ddc6f2d"
      },
      "execution_count": null,
      "outputs": [
        {
          "output_type": "stream",
          "name": "stdout",
          "text": [
            "Option 1:  0.3605982754620045\n",
            "Option 2:  0.4094208743397143\n",
            "\n",
            "Option 2 is the best investment\n"
          ]
        }
      ]
    }
  ]
}