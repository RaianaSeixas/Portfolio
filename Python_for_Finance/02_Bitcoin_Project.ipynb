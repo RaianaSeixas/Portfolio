{
  "nbformat": 4,
  "nbformat_minor": 0,
  "metadata": {
    "colab": {
      "name": "Bitcoin Project.ipynb",
      "provenance": [],
      "authorship_tag": "ABX9TyO9qM535EVS8VB+wX0r2F25",
      "include_colab_link": true
    },
    "kernelspec": {
      "name": "python3",
      "display_name": "Python 3"
    },
    "language_info": {
      "name": "python"
    }
  },
  "cells": [
    {
      "cell_type": "markdown",
      "metadata": {
        "id": "view-in-github",
        "colab_type": "text"
      },
      "source": [
        "<a href=\"https://colab.research.google.com/github/RaianaSeixas/Portifolio/blob/main/Python_for_Finance/Bitcoin_Project.ipynb\" target=\"_parent\"><img src=\"https://colab.research.google.com/assets/colab-badge.svg\" alt=\"Open In Colab\"/></a>"
      ]
    },
    {
      "cell_type": "markdown",
      "source": [
        "You decide to start a Bitcoin mining business in January of 2017. You make an initial investment of $500K to buy the required mining hardware.\n",
        "Each year the hardware can mine 10 bitcoins, so your first return will come on January 1, 2018.\n",
        "\n",
        "Calculate the return for each year and output the Internal Rate of Return (IRR) of the project."
      ],
      "metadata": {
        "id": "wtBzatyHvsl5"
      }
    },
    {
      "cell_type": "code",
      "source": [
        "!pip install numpy_financial\n",
        "import numpy as np\n",
        "import numpy_financial as npf\n",
        "import matplotlib.pyplot as plt\n",
        "from matplotlib.ticker import FormatStrFormatter"
      ],
      "metadata": {
        "colab": {
          "base_uri": "https://localhost:8080/"
        },
        "id": "FZ-Y1kRYymF9",
        "outputId": "1c109284-64d7-4150-9778-59fde4b91855"
      },
      "execution_count": 68,
      "outputs": [
        {
          "output_type": "stream",
          "name": "stdout",
          "text": [
            "Looking in indexes: https://pypi.org/simple, https://us-python.pkg.dev/colab-wheels/public/simple/\n",
            "Requirement already satisfied: numpy_financial in /usr/local/lib/python3.7/dist-packages (1.0.0)\n",
            "Requirement already satisfied: numpy>=1.15 in /usr/local/lib/python3.7/dist-packages (from numpy_financial) (1.21.6)\n"
          ]
        }
      ]
    },
    {
      "cell_type": "code",
      "execution_count": 69,
      "metadata": {
        "colab": {
          "base_uri": "https://localhost:8080/",
          "height": 382
        },
        "id": "lsVnhTSimPV5",
        "outputId": "fc6ef5bb-ae54-4cf6-f016-700efea1076b"
      },
      "outputs": [
        {
          "output_type": "stream",
          "name": "stdout",
          "text": [
            "Exploratory analysis of BTC price:\n",
            "\n",
            "Mean BTC price= 15663.255000000001\n",
            "STD BTC price= 10513.803224771947\n",
            "\n"
          ]
        },
        {
          "output_type": "display_data",
          "data": {
            "text/plain": [
              "<Figure size 432x288 with 1 Axes>"
            ],
            "image/png": "[encoded data removed]"
          },
          "metadata": {
            "needs_background": "light"
          }
        }
      ],
      "source": [
        "###### Data Entrance\n",
        "\n",
        "bitcoin = [3869.47, 7188.46, 22203.31, 29391.78] #price for 2018-2021\n",
        "investment=500000\n",
        "bit_mined=10\n",
        "\n",
        "###### Exploratory analysis of BTC price:\n",
        "\n",
        "print('Exploratory analysis of BTC price:')\n",
        "print()\n",
        "print('Mean BTC price=', np.mean(bitcoin))\n",
        "print('STD BTC price=',np.std(bitcoin))\n",
        "print()\n",
        "\n",
        "#Graph\n",
        "start=2018; end=2021;stepsize=1\n",
        "years=list(range(start, end+1, stepsize))\n",
        "\n",
        "fig, ax=plt.subplots()\n",
        "fig=plt.plot(years,bitcoin, 'g-o',linewidth=2, markersize=6)\n",
        "ax.xaxis.set_ticks(np.arange(start, end+1, stepsize))\n",
        "#ax.xaxis.set_major_formatter(FormatStrFormatter('%.0f')) #format decimals in axis\n",
        "plt.title('BTC price over years')\n",
        "plt.ylabel('Price ($)')\n",
        "plt.xlabel('Year')\n",
        "plt.show()"
      ]
    },
    {
      "cell_type": "code",
      "source": [
        "#Internal Rate of Return of mining project (profit divided by investment)\n",
        "'''\n",
        "Create a list with the initial investment as the first element (with a negative value), followed by the price of 10 bitcoins per year (return by year)\n",
        "Use this list as an input to calculate the IRR\n",
        "'''\n",
        "cashflow=[-investment]\n",
        "for i in range(len(bitcoin)):\n",
        "    cashflow.append(bitcoin[i]*bit_mined)\n",
        "\n",
        "#print(cashflow)\n",
        "\n",
        "IRR=npf.irr(cashflow)\n",
        "print('Internal Rate of Return (IRR) mining =',IRR)"
      ],
      "metadata": {
        "colab": {
          "base_uri": "https://localhost:8080/"
        },
        "id": "7Vo4uWfS1yXi",
        "outputId": "acc0ad05-b1a9-45dc-c9f4-ced6c35facfc"
      },
      "execution_count": 70,
      "outputs": [
        {
          "output_type": "stream",
          "name": "stdout",
          "text": [
            "Internal Rate of Return (IRR) mining = 0.07297215919675315\n"
          ]
        }
      ]
    },
    {
      "cell_type": "code",
      "source": [
        "'''\n",
        "You decide to invest $ 2000 in Bitcoin in  2018, at the price in the declared array: $3869.47.\n",
        "\n",
        "Tasks\n",
        "1. Calculate how much your investment is worth at the end of each year using the prices denoted in the code.\n",
        "2. Draw a chart to showcase how much your $1000 investment changes in value each year.\n",
        "3. Calculates the IRR of the investment\n",
        "'''\n",
        "\n",
        "# Calculation of the amount of money in each year\n",
        "\n",
        "purchase=2000\n",
        "\n",
        "bit_amount=purchase/bitcoin[0] # it calculates how many Bitcoins you will have at the start by dividing your investment by the cost of Bitcoin in the first year (the first element of the BTC prices array)\n",
        "money=np.multiply(bitcoin,bit_amount) #it multiplies the entire array of the prices by that number to get the value for each year.\n",
        "\n",
        "#Graph\n",
        "\n",
        "start=2018; end=2021;stepsize=1\n",
        "years=list(range(start, end+1, stepsize))\n",
        "\n",
        "fig, ax=plt.subplots()\n",
        "plt.plot(years,money, 'b-*',linewidth=2, markersize=8)\n",
        "ax.xaxis.set_ticks(np.arange(start, end+1, stepsize))\n",
        "#plt.savefig('plot.png')\n",
        "plt.title('Amount in BTC over years of an investment of $ 2000')\n",
        "plt.ylabel('Price ($)')\n",
        "plt.xlabel('Year')\n",
        "\n",
        "plt.show()\n",
        "\n",
        "#IRR\n",
        "Final_amount= money[-1]\n",
        "print('Final amount=', Final_amount)\n",
        "\n",
        "IRR=npf.irr([-purchase, Final_amount])\n",
        "print('Internal Rate of Return (IRR) Investiment =',IRR)\n"
      ],
      "metadata": {
        "colab": {
          "base_uri": "https://localhost:8080/",
          "height": 330
        },
        "id": "wK4TfWpINESf",
        "outputId": "0ea4862e-6f59-485e-f0fc-d1694d83a67b"
      },
      "execution_count": 73,
      "outputs": [
        {
          "output_type": "display_data",
          "data": {
            "text/plain": [
              "<Figure size 432x288 with 1 Axes>"
            ],
            "image/png": "[encoded data removed]"
          },
          "metadata": {
            "needs_background": "light"
          }
        },
        {
          "output_type": "stream",
          "name": "stdout",
          "text": [
            "Final amount= 15191.630895187196\n",
            "Internal Rate of Return (IRR) Investiment = 6.595815447593598\n"
          ]
        }
      ]
    }
  ]
}
