{
  "nbformat": 4,
  "nbformat_minor": 0,
  "metadata": {
    "colab": {
      "name": "07_Portfolio Optimization.ipynb",
      "provenance": [],
      "authorship_tag": "ABX9TyNpB3jF+XeO5HtQFF8xTHy8",
      "include_colab_link": true
    },
    "kernelspec": {
      "name": "python3",
      "display_name": "Python 3"
    },
    "language_info": {
      "name": "python"
    }
  },
  "cells": [
    {
      "cell_type": "markdown",
      "metadata": {
        "id": "view-in-github",
        "colab_type": "text"
      },
      "source": [
        "<a href=\"https://colab.research.google.com/github/RaianaSeixas/Portifolio/blob/main/Python_for_Finance/07_Portfolio_Optimization.ipynb\" target=\"_parent\"><img src=\"https://colab.research.google.com/assets/colab-badge.svg\" alt=\"Open In Colab\"/></a>"
      ]
    },
    {
      "cell_type": "markdown",
      "source": [
        "Portfolio optimization is the technique of allocating assets so that it has the maximum return and minimum risk.\n",
        "\n",
        "This can be done by finding the allocation that results in the **maximum Sharpe ratio**. \n",
        "\n",
        "The simplest way to find the best allocation is to check many random allocations and find the one that has the best Sharpe ratio. This process of randomly guessing is known as a **Monte Carlo Simulation**."
      ],
      "metadata": {
        "id": "a3uIXFDohC1G"
      }
    },
    {
      "cell_type": "code",
      "execution_count": 8,
      "metadata": {
        "colab": {
          "base_uri": "https://localhost:8080/"
        },
        "id": "OXXmwVb4gvsr",
        "outputId": "d6eaefd2-7e5e-4f69-b00f-c4f71baf8545"
      },
      "outputs": [
        {
          "output_type": "stream",
          "name": "stdout",
          "text": [
            "Looking in indexes: https://pypi.org/simple, https://us-python.pkg.dev/colab-wheels/public/simple/\n",
            "Requirement already satisfied: yfinance in /usr/local/lib/python3.7/dist-packages (0.1.70)\n",
            "Requirement already satisfied: numpy>=1.15 in /usr/local/lib/python3.7/dist-packages (from yfinance) (1.21.6)\n",
            "Requirement already satisfied: requests>=2.26 in /usr/local/lib/python3.7/dist-packages (from yfinance) (2.27.1)\n",
            "Requirement already satisfied: lxml>=4.5.1 in /usr/local/lib/python3.7/dist-packages (from yfinance) (4.9.0)\n",
            "Requirement already satisfied: pandas>=0.24.0 in /usr/local/lib/python3.7/dist-packages (from yfinance) (1.3.5)\n",
            "Requirement already satisfied: multitasking>=0.0.7 in /usr/local/lib/python3.7/dist-packages (from yfinance) (0.0.10)\n",
            "Requirement already satisfied: pytz>=2017.3 in /usr/local/lib/python3.7/dist-packages (from pandas>=0.24.0->yfinance) (2022.1)\n",
            "Requirement already satisfied: python-dateutil>=2.7.3 in /usr/local/lib/python3.7/dist-packages (from pandas>=0.24.0->yfinance) (2.8.2)\n",
            "Requirement already satisfied: six>=1.5 in /usr/local/lib/python3.7/dist-packages (from python-dateutil>=2.7.3->pandas>=0.24.0->yfinance) (1.15.0)\n",
            "Requirement already satisfied: certifi>=2017.4.17 in /usr/local/lib/python3.7/dist-packages (from requests>=2.26->yfinance) (2022.5.18.1)\n",
            "Requirement already satisfied: idna<4,>=2.5 in /usr/local/lib/python3.7/dist-packages (from requests>=2.26->yfinance) (2.10)\n",
            "Requirement already satisfied: charset-normalizer~=2.0.0 in /usr/local/lib/python3.7/dist-packages (from requests>=2.26->yfinance) (2.0.12)\n",
            "Requirement already satisfied: urllib3<1.27,>=1.21.1 in /usr/local/lib/python3.7/dist-packages (from requests>=2.26->yfinance) (1.24.3)\n"
          ]
        }
      ],
      "source": [
        "!pip install yfinance"
      ]
    },
    {
      "cell_type": "code",
      "source": [
        "import yfinance as yf\n",
        "import numpy as np\n",
        "from datetime import datetime, timedelta\n",
        "import matplotlib.pyplot as plt\n",
        "import pandas as pd\n",
        "import statsmodels.api as sm\n",
        "plt.rcParams['figure.figsize'] = [12, 6] # mudar área dos gráficos # changing graphic area"
      ],
      "metadata": {
        "id": "qOZmG0BIhBhc"
      },
      "execution_count": 9,
      "outputs": []
    },
    {
      "cell_type": "code",
      "source": [
        "# Potfolio Definition\n",
        "\n",
        "stocks = ['AAPL', 'AMZN', 'MSFT', 'TSLA']\n",
        "start='2018-01-01'\n",
        "\n",
        "data = yf.download(stocks, start=start)\n",
        "\n",
        "#daily returns\n",
        "data = data['Close']\n",
        "x = data.pct_change()\n",
        "x.iloc[0]=0 #initial return =0\n",
        "\n",
        "#print(x)"
      ],
      "metadata": {
        "colab": {
          "base_uri": "https://localhost:8080/"
        },
        "id": "f7j_TJSnjrg2",
        "outputId": "1b3f912d-1a60-4b5b-aafb-8364c019ad76"
      },
      "execution_count": 10,
      "outputs": [
        {
          "output_type": "stream",
          "name": "stdout",
          "text": [
            "[*********************100%***********************]  4 of 4 completed\n"
          ]
        }
      ]
    },
    {
      "cell_type": "code",
      "source": [
        "'''\n",
        "We need to store the weights, returns and Sharpe ratios for each portfolio we will be checking so that we can then find the one that is best.\n",
        "We will define lists to store these values for each portfolio.\n",
        "'''\n",
        "p_weights = []\n",
        "p_returns = []\n",
        "p_risk = []\n",
        "p_sharpe = []"
      ],
      "metadata": {
        "id": "YWRByBz3kPUi"
      },
      "execution_count": 11,
      "outputs": []
    },
    {
      "cell_type": "code",
      "source": [
        "'''\n",
        "This for loop, generates the random weights and calculate the returns, volatility and Sharpe ratio of the portfolio.\n",
        "'''\n",
        "count = 500\n",
        "for k in range(0, count):\n",
        "    wts = np.random.uniform(size = len(x.columns))\n",
        "    wts = wts/np.sum(wts)\n",
        "    p_weights.append(wts)\n",
        "\n",
        "    #returns\n",
        "    mean_ret = (x.mean() * wts).sum()*252\n",
        "    p_returns.append(mean_ret)\n",
        "\n",
        "    #volatility\n",
        "    ret = (x * wts).sum(axis = 1)\n",
        "    annual_std = np.std(ret) * np.sqrt(252)\n",
        "    p_risk.append(annual_std)\n",
        "    \n",
        "    #Sharpe ratio\n",
        "    sharpe = (np.mean(ret) / np.std(ret))*np.sqrt(252)\n",
        "    p_sharpe.append(sharpe)\n",
        "\n",
        "'''We now have the metrics for 500 portfolios! '''"
      ],
      "metadata": {
        "colab": {
          "base_uri": "https://localhost:8080/",
          "height": 36
        },
        "id": "ChKVCzmRlkbH",
        "outputId": "b3da240f-fcf1-480b-a96f-d05ebed14245"
      },
      "execution_count": 12,
      "outputs": [
        {
          "output_type": "execute_result",
          "data": {
            "text/plain": [
              "'We now have the metrics for 500 portfolios! '"
            ],
            "application/vnd.google.colaboratory.intrinsic+json": {
              "type": "string"
            }
          },
          "metadata": {},
          "execution_count": 12
        }
      ]
    },
    {
      "cell_type": "code",
      "source": [
        "'''\n",
        "Let's find the index of the portfolio with the maximum Sharpe ratio using the Numpy argmax() function and output the max Sharpe ratio and the weights:\n",
        "'''\n",
        "count = 500\n",
        "for k in range(0, count):\n",
        "    wts = np.random.uniform(size = len(x.columns))\n",
        "    wts = wts/np.sum(wts)\n",
        "    p_weights.append(wts)\n",
        "\n",
        "    #returns\n",
        "    mean_ret = (x.mean() * wts).sum()*252\n",
        "    p_returns.append(mean_ret)\n",
        "\n",
        "    #volatility (annual)\n",
        "    ret = (x * wts).sum(axis = 1)\n",
        "    annual_std = np.std(ret) * np.sqrt(252)\n",
        "    p_risk.append(annual_std)\n",
        "    \n",
        "    #Sharpe ratio\n",
        "    sharpe = (np.mean(ret) / np.std(ret))*np.sqrt(252)\n",
        "    p_sharpe.append(sharpe)\n",
        "\n",
        "\n",
        "max_ind = np.argmax(p_sharpe)\n",
        "\n",
        "print('This is the portfolio which results in the maximum Sharpe ratio among all tested.')\n",
        "print('You may get slightly different results each time you run the code, as the weights are randomly generated every time.')\n",
        "print()\n",
        "\n",
        "#Max Sharpe ratio\n",
        "print('Sharpe ratio:',p_sharpe[max_ind])\n",
        "\n",
        "#weights\n",
        "print('Weights:',p_weights[max_ind])"
      ],
      "metadata": {
        "colab": {
          "base_uri": "https://localhost:8080/"
        },
        "id": "zmH803BnoLnI",
        "outputId": "aa8b37bb-3153-4442-b9ab-fa40b52b56b0"
      },
      "execution_count": 13,
      "outputs": [
        {
          "output_type": "stream",
          "name": "stdout",
          "text": [
            "This is the portfolio which results in the maximum Sharpe ratio among all tested.\n",
            "You may get slightly different results each time you run the code, as the weights are randomly generated every time.\n",
            "\n",
            "Sharpe ratio: 1.2883869812169766\n",
            "Weights: [0.26066031 0.0028398  0.37929812 0.35720177]\n"
          ]
        }
      ]
    },
    {
      "cell_type": "code",
      "source": [
        "'''\n",
        "Let's draw a bar chart visualizing the weights:\n",
        "'''\n",
        "s = pd.Series(p_weights[max_ind], index=x.columns)\n",
        "s.plot(kind='bar')\n",
        "\n",
        "plt.savefig('plot.png')"
      ],
      "metadata": {
        "colab": {
          "base_uri": "https://localhost:8080/",
          "height": 394
        },
        "id": "f2xmBuH1o2r2",
        "outputId": "834d3d59-8207-464d-fb1b-f420bd1c4b7b"
      },
      "execution_count": 14,
      "outputs": [
        {
          "output_type": "display_data",
          "data": {
            "text/plain": [
              "<Figure size 864x432 with 1 Axes>"
            ],
            "image/png": "[encoded data removed]"
          },
          "metadata": {
            "needs_background": "light"
          }
        }
      ]
    },
    {
      "cell_type": "code",
      "source": [
        "'''\n",
        "As a last step, let's plot information about the 500 portfolios.\n",
        "The chart is called Efficient Frontier and shows the returns on the Y-axis and volatility on the X-axis.\n",
        "The Efficient Frontier chart shows the return we can get for the given volatility, or, the volatility that we get for a certain return.\n",
        "\n",
        "We can create the chart using the scatter() function, providing the volatility and return lists as parameters:\n",
        "'''\n",
        "\n",
        "plt.scatter(p_risk, p_returns, c=p_sharpe, cmap='plasma')\n",
        "plt.colorbar(label='Sharpe Ratio')\n",
        "plt.xlabel('Volatility')\n",
        "plt.ylabel('Return')\n",
        "plt.title('Efficient Frontier')\n",
        "\n",
        "plt.scatter(p_risk[max_ind], p_returns[max_ind], color='r', marker='*', s=500)\n",
        "plt.show()\n",
        "\n",
        "plt.show()\n",
        "\n",
        "print('The red star marker to the chart, shows the most efficient portfolio with the best Sharpe ratio')"
      ],
      "metadata": {
        "colab": {
          "base_uri": "https://localhost:8080/",
          "height": 421
        },
        "id": "BL1a0R1VqDmp",
        "outputId": "5bceec54-b918-46f5-9eba-b50c5b1349e1"
      },
      "execution_count": 15,
      "outputs": [
        {
          "output_type": "display_data",
          "data": {
            "text/plain": [
              "<Figure size 864x432 with 2 Axes>"
            ],
            "image/png": "[encoded data removed]"
          },
          "metadata": {
            "needs_background": "light"
          }
        },
        {
          "output_type": "stream",
          "name": "stdout",
          "text": [
            "The red star marker to the chart, shows the most efficient portfolio with the best Sharpe ratio\n"
          ]
        }
      ]
    }
  ]
}