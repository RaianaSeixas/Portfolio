{
  "nbformat": 4,
  "nbformat_minor": 0,
  "metadata": {
    "colab": {
      "name": "Web scraping with Pandas_S&P 500.ipynb",
      "provenance": [],
      "authorship_tag": "ABX9TyM8K31SC6fqM+ANooU4ZyL6",
      "include_colab_link": true
    },
    "kernelspec": {
      "name": "python3",
      "display_name": "Python 3"
    },
    "language_info": {
      "name": "python"
    }
  },
  "cells": [
    {
      "cell_type": "markdown",
      "metadata": {
        "id": "view-in-github",
        "colab_type": "text"
      },
      "source": [
        "<a href=\"https://colab.research.google.com/github/RaianaSeixas/Portifolio/blob/main/Python_for_Finance/Web_scraping_with_Pandas_S%26P_500.ipynb\" target=\"_parent\"><img src=\"https://colab.research.google.com/assets/colab-badge.svg\" alt=\"Open In Colab\"/></a>"
      ]
    },
    {
      "cell_type": "markdown",
      "source": [
        "Web scraping is the process of using a program to extract content and data from a website.\n",
        "\n",
        "Pandas provides a read_html() function, which can be used to convert tables on web pages to DataFrames.\n",
        "Let's scrape the list of S&P 500 companies from Wikipedia.\n",
        "The list is available on the Wikipedia article page as a table.\n",
        "\n",
        "https://en.wikipedia.org/wiki/List_of_S%26P_500_companies\n"
      ],
      "metadata": {
        "id": "8MVSXlVkfF7e"
      }
    },
    {
      "cell_type": "code",
      "source": [
        "import pandas as pd\n",
        "\n",
        "data = pd.read_html('https://en.wikipedia.org/wiki/List_of_S%26P_500_companies')\n",
        "df = data[0]\n",
        "print(df.head())"
      ],
      "metadata": {
        "colab": {
          "base_uri": "https://localhost:8080/"
        },
        "id": "fZ_N9k_XgkZB",
        "outputId": "658e3fae-9971-43f7-8525-00eed3b65c78"
      },
      "execution_count": 16,
      "outputs": [
        {
          "output_type": "stream",
          "name": "stdout",
          "text": [
            "  Symbol     Security SEC filings  GICS Sector         GICS Sub-Industry  \\\n",
            "0    MMM           3M     reports  Industrials  Industrial Conglomerates   \n",
            "1    AOS  A. O. Smith     reports  Industrials         Building Products   \n",
            "2    ABT       Abbott     reports  Health Care     Health Care Equipment   \n",
            "3   ABBV       AbbVie     reports  Health Care           Pharmaceuticals   \n",
            "4   ABMD      Abiomed     reports  Health Care     Health Care Equipment   \n",
            "\n",
            "     Headquarters Location Date first added      CIK      Founded  \n",
            "0    Saint Paul, Minnesota       1976-08-09    66740         1902  \n",
            "1     Milwaukee, Wisconsin       2017-07-26    91142         1916  \n",
            "2  North Chicago, Illinois       1964-03-31     1800         1888  \n",
            "3  North Chicago, Illinois       2012-12-31  1551152  2013 (1888)  \n",
            "4   Danvers, Massachusetts       2018-05-31   815094         1981  \n"
          ]
        }
      ]
    },
    {
      "cell_type": "code",
      "source": [
        "# info() function can be used to ceck information about the columns:\n",
        "df.info()"
      ],
      "metadata": {
        "colab": {
          "base_uri": "https://localhost:8080/"
        },
        "id": "gVIbLHdVkfKp",
        "outputId": "26ab690e-3b11-4f9f-f7ee-5550a9b05e57"
      },
      "execution_count": 17,
      "outputs": [
        {
          "output_type": "stream",
          "name": "stdout",
          "text": [
            "<class 'pandas.core.frame.DataFrame'>\n",
            "RangeIndex: 504 entries, 0 to 503\n",
            "Data columns (total 9 columns):\n",
            " #   Column                 Non-Null Count  Dtype \n",
            "---  ------                 --------------  ----- \n",
            " 0   Symbol                 504 non-null    object\n",
            " 1   Security               504 non-null    object\n",
            " 2   SEC filings            504 non-null    object\n",
            " 3   GICS Sector            504 non-null    object\n",
            " 4   GICS Sub-Industry      504 non-null    object\n",
            " 5   Headquarters Location  504 non-null    object\n",
            " 6   Date first added       459 non-null    object\n",
            " 7   CIK                    504 non-null    int64 \n",
            " 8   Founded                504 non-null    object\n",
            "dtypes: int64(1), object(8)\n",
            "memory usage: 35.6+ KB\n"
          ]
        }
      ]
    },
    {
      "cell_type": "code",
      "source": [
        "# Select and output only specific columns (Symbol and Company name):\n",
        "\n",
        "df = df[['Symbol', 'Security']]\n",
        "print(df) "
      ],
      "metadata": {
        "colab": {
          "base_uri": "https://localhost:8080/"
        },
        "id": "eyW5PEUmjdR_",
        "outputId": "d760e15e-e06a-4473-c755-bfe56396602c"
      },
      "execution_count": 18,
      "outputs": [
        {
          "output_type": "stream",
          "name": "stdout",
          "text": [
            "    Symbol       Security\n",
            "0      MMM             3M\n",
            "1      AOS    A. O. Smith\n",
            "2      ABT         Abbott\n",
            "3     ABBV         AbbVie\n",
            "4     ABMD        Abiomed\n",
            "..     ...            ...\n",
            "499    YUM    Yum! Brands\n",
            "500   ZBRA          Zebra\n",
            "501    ZBH  Zimmer Biomet\n",
            "502   ZION  Zions Bancorp\n",
            "503    ZTS         Zoetis\n",
            "\n",
            "[504 rows x 2 columns]\n"
          ]
        }
      ]
    },
    {
      "cell_type": "code",
      "source": [
        "# Filter the table by company name:\n",
        "\n",
        "df = df[df['Security'] == 'Apple']\n",
        "print(df)"
      ],
      "metadata": {
        "colab": {
          "base_uri": "https://localhost:8080/"
        },
        "id": "4Xz4dtCkiwOw",
        "outputId": "cd5590ba-6bba-44bd-cae7-81ef3baefabf"
      },
      "execution_count": 19,
      "outputs": [
        {
          "output_type": "stream",
          "name": "stdout",
          "text": [
            "   Symbol Security\n",
            "46   AAPL    Apple\n"
          ]
        }
      ]
    }
  ]
}